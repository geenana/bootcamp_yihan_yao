{
 "cells": [
  {
   "cell_type": "code",
   "execution_count": 1,
   "id": "caa9d9e6-c9c0-4fd4-9063-3de21783cacc",
   "metadata": {},
   "outputs": [],
   "source": [
    "import pandas as pd\n",
    "from pathlib import Path\n",
    "import sys\n",
    "\n",
    "# Add project root (parent of notebooks/) to Python path \n",
    "PROJECT_ROOT = Path(\"..\").resolve()\n",
    "sys.path.append(str(PROJECT_ROOT))\n",
    "DATA = PROJECT_ROOT / \"data\"\n",
    "RAW = DATA / \"raw\"\n",
    "PROCESSED = DATA / \"processed\""
   ]
  },
  {
   "cell_type": "code",
   "execution_count": 2,
   "id": "1aa54689-a756-4b80-bc9f-3d21c1e93f47",
   "metadata": {},
   "outputs": [
    {
     "name": "stdout",
     "output_type": "stream",
     "text": [
      "\n",
      "Processing: market_source-yfinance_symbol-^GSPC_name-sp500_20250820_102321.csv\n",
      "Raw shape: (251, 2)\n",
      "Saved: market_source-yfinance_symbol-^GSPC_name-sp500_20250820_102321_processed.parquet and market_source-yfinance_symbol-^GSPC_name-sp500_20250820_102321_processed.csv -> shape: (251, 2)\n",
      "\n",
      "Processing: market_source-yfinance_symbol-^VIX_name-vix_20250820_102321.csv\n",
      "Raw shape: (251, 2)\n",
      "Saved: market_source-yfinance_symbol-^VIX_name-vix_20250820_102321_processed.parquet and market_source-yfinance_symbol-^VIX_name-vix_20250820_102321_processed.csv -> shape: (251, 2)\n"
     ]
    }
   ],
   "source": [
    "from src.cleaning import fill_missing_median, drop_missing, normalize_data\n",
    "\n",
    "csv_files = sorted(RAW.glob(\"*.csv\"))\n",
    "if not csv_files:\n",
    "    raise FileNotFoundError(\"No CSV files found in data/raw/\")\n",
    "\n",
    "for csv_path in csv_files:\n",
    "    print(f\"\\nProcessing: {csv_path.name}\")\n",
    "    \n",
    "    # Load raw data\n",
    "    df_raw = pd.read_csv(csv_path, parse_dates=['date'])\n",
    "    print(\"Raw shape:\", df_raw.shape)\n",
    "    \n",
    "    # Fill missing values (median for numeric)\n",
    "    df_clean = fill_missing_median(df_raw, columns=['adj_close'])\n",
    "    \n",
    "    # Drop rows with missing critical columns\n",
    "    df_clean = drop_missing(df_clean, columns=['date','adj_close'])\n",
    "    \n",
    "    # Normalize numeric columns \n",
    "    df_clean = df_clean.set_index('date')\n",
    "    df_clean[['adj_close']] = normalize_data(df_clean, columns=['adj_close'], method='minmax')\n",
    "    df_clean = df_clean.reset_index()\n",
    "\n",
    "\n",
    "    # Save processed dataset (both CSV & Parquet)\n",
    "    base_name = csv_path.stem + \"_processed\"\n",
    "    pq_path = PROCESSED / f\"{base_name}.parquet\"\n",
    "    csv_out_path = PROCESSED / f\"{base_name}.csv\"\n",
    "    \n",
    "    df_clean.to_parquet(pq_path, index=False)\n",
    "    df_clean.to_csv(csv_out_path, index=False)\n",
    "    \n",
    "    print(\"Saved:\", pq_path.name, \"and\", csv_out_path.name, \"-> shape:\", df_clean.shape)"
   ]
  },
  {
   "cell_type": "markdown",
   "id": "180f5553-dbe4-4951-adf7-c6cfcad76439",
   "metadata": {},
   "source": [
    "### Assumptions & Rationale during Cleaning\n",
    "\n",
    "1. **Missing values filled with median**  \n",
    "   - Assumption: Stock prices (`adj_close`) are continuous and median imputation is robust to outliers.  \n",
    "   - Rationale: Preserves dataset size while reducing distortion from extreme values compared to mean imputation.  \n",
    "\n",
    "2. **Dropping rows with missing critical fields**  \n",
    "   - Assumption: `date` and `adj_close` are required for analysis; rows missing these are unusable.  \n",
    "   - Rationale: Ensures consistency in time series and prevents errors in downstream volatility modeling.  \n",
    "\n",
    "3. **Normalization (Min-Max scaling)**  \n",
    "   - Assumption: Scaling `adj_close` to [0,1] improves stability for ML models and makes features comparable.  \n",
    "   - Rationale: Prevents models from being biased by absolute price levels, focusing instead on relative changes.  "
   ]
  },
  {
   "cell_type": "code",
   "execution_count": null,
   "id": "f13a963c-2941-4c1a-a8a5-ed2a711e41c6",
   "metadata": {},
   "outputs": [],
   "source": []
  }
 ],
 "metadata": {
  "kernelspec": {
   "display_name": "Python [conda env:bootcamp_env]",
   "language": "python",
   "name": "bootcamp_env"
  },
  "language_info": {
   "codemirror_mode": {
    "name": "ipython",
    "version": 3
   },
   "file_extension": ".py",
   "mimetype": "text/x-python",
   "name": "python",
   "nbconvert_exporter": "python",
   "pygments_lexer": "ipython3",
   "version": "3.10.18"
  }
 },
 "nbformat": 4,
 "nbformat_minor": 5
}
