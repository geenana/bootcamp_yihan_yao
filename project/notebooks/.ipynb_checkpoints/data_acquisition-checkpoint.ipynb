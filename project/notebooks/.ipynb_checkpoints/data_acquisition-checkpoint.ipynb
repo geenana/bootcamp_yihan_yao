{
 "cells": [
  {
   "cell_type": "code",
   "execution_count": 1,
   "id": "0406046e-859d-4d07-a382-eee1fe013b71",
   "metadata": {},
   "outputs": [],
   "source": [
    "import sys, os\n",
    "import pandas as pd\n",
    "import numpy as np\n",
    "import yfinance as yf\n",
    "from pathlib import Path\n",
    "from datetime import datetime"
   ]
  },
  {
   "cell_type": "code",
   "execution_count": 2,
   "id": "ff22e3ac-4e6d-43ef-bde1-ff02c775655d",
   "metadata": {},
   "outputs": [],
   "source": [
    "# Set folder paths relative to notebook location\n",
    "PROJECT_ROOT = Path(\"..\").resolve()          # from notebook/ go up one level\n",
    "DATA = PROJECT_ROOT / \"data\"\n",
    "RAW = DATA / \"raw\"\n",
    "\n",
    "# Make sure the raw folder exists\n",
    "RAW.mkdir(parents=True, exist_ok=True)\n",
    "\n",
    "# FRED via pandas_datareader (rates, CPI, unemployment)\n",
    "# If not installed, run once in a cell:  %pip install pandas_datareader\n",
    "try:\n",
    "    from pandas_datareader.data import DataReader\n",
    "    HAS_PDR = True\n",
    "except Exception:\n",
    "    HAS_PDR = False"
   ]
  },
  {
   "cell_type": "code",
   "execution_count": 3,
   "id": "7dd121ab-03a7-4da5-a41e-e802aae70c00",
   "metadata": {},
   "outputs": [],
   "source": [
    "# Timestamp helper\n",
    "def ts():\n",
    "    return datetime.now().strftime(\"%Y%m%d_%H%M%S\")\n",
    "\n",
    "# Save function\n",
    "def save_csv(df: pd.DataFrame, prefix: str, **meta):\n",
    "    mid = '_'.join([f\"{k}-{v}\" for k,v in meta.items()])\n",
    "    path = RAW / f\"{prefix}_{mid}_{ts()}.csv\"\n",
    "    df.to_csv(path, index=False)\n",
    "    print('Saved', path.resolve())\n",
    "    return path\n",
    "\n",
    "# Validation function\n",
    "def validate(df: pd.DataFrame, required):\n",
    "    missing = [c for c in required if c not in df.columns]\n",
    "    return {'missing': missing, 'shape': df.shape, 'na_total': int(df.isna().sum().sum())}"
   ]
  },
  {
   "cell_type": "code",
   "execution_count": 4,
   "id": "d8d9bbc8-035f-4031-96fb-bf813eb8fac0",
   "metadata": {},
   "outputs": [
    {
     "name": "stderr",
     "output_type": "stream",
     "text": [
      "/var/folders/m3/srcst_cd347fv_bjsd6nkqyh0000gn/T/ipykernel_33183/1544293442.py:11: FutureWarning: YF.download() has changed argument auto_adjust default to True\n",
      "  df = yf.download(ticker, period=\"1y\", interval=\"1d\").reset_index()[['Date', 'Close']]\n",
      "[*********************100%***********************]  1 of 1 completed\n",
      "/var/folders/m3/srcst_cd347fv_bjsd6nkqyh0000gn/T/ipykernel_33183/1544293442.py:11: FutureWarning: YF.download() has changed argument auto_adjust default to True\n",
      "  df = yf.download(ticker, period=\"1y\", interval=\"1d\").reset_index()[['Date', 'Close']]\n"
     ]
    },
    {
     "name": "stdout",
     "output_type": "stream",
     "text": [
      "Saved /Users/yihanyao/bootcamp_yihan_yao/project/data/raw/market_source-yfinance_symbol-^GSPC_name-sp500_20250820_102321.csv\n"
     ]
    },
    {
     "name": "stderr",
     "output_type": "stream",
     "text": [
      "[*********************100%***********************]  1 of 1 completed"
     ]
    },
    {
     "name": "stdout",
     "output_type": "stream",
     "text": [
      "Saved /Users/yihanyao/bootcamp_yihan_yao/project/data/raw/market_source-yfinance_symbol-^VIX_name-vix_20250820_102321.csv\n",
      "sp500 {'missing': [], 'shape': (251, 2), 'na_total': 0}\n",
      "vix {'missing': [], 'shape': (251, 2), 'na_total': 0}\n"
     ]
    },
    {
     "name": "stderr",
     "output_type": "stream",
     "text": [
      "\n"
     ]
    }
   ],
   "source": [
    "# Project-relevant symbols\n",
    "# Test data acquisition \n",
    "SYMBOLS = {\n",
    "    \"sp500\": \"^GSPC\",  # S&P 500 index\n",
    "    \"vix\": \"^VIX\"      # VIX index (CBOE Volatility Index)\n",
    "}\n",
    "\n",
    "data_frames = {}\n",
    "\n",
    "# Download data from Yahoo Finance\n",
    "for name, ticker in SYMBOLS.items():\n",
    "    df = yf.download(ticker, period=\"1y\", interval=\"1d\").reset_index()[['Date', 'Close']]\n",
    "    df.columns = ['date','adj_close']\n",
    "    data_frames[name] = df\n",
    "\n",
    "    # Save using your save_csv function\n",
    "    save_csv(\n",
    "        df.sort_values('date'),\n",
    "        prefix=\"market\",\n",
    "        source=\"yfinance\",\n",
    "        symbol=ticker,\n",
    "        name=name\n",
    "    )\n",
    "\n",
    "# Validate both datasets\n",
    "for name, df in data_frames.items():\n",
    "    print(name, validate(df, [\"date\", \"adj_close\"]))"
   ]
  },
  {
   "cell_type": "code",
   "execution_count": 4,
   "id": "f07080bb-195e-4f87-8ec1-e6eac7658b9f",
   "metadata": {},
   "outputs": [
    {
     "name": "stderr",
     "output_type": "stream",
     "text": [
      "/var/folders/m3/srcst_cd347fv_bjsd6nkqyh0000gn/T/ipykernel_39474/2709155199.py:6: FutureWarning: YF.download() has changed argument auto_adjust default to True\n",
      "  spx = yf.download(\"^GSPC\", period=PERIOD, interval=INTERVAL)[[\"Close\"]].reset_index()\n",
      "[*********************100%***********************]  1 of 1 completed\n",
      "/var/folders/m3/srcst_cd347fv_bjsd6nkqyh0000gn/T/ipykernel_39474/2709155199.py:8: FutureWarning: YF.download() has changed argument auto_adjust default to True\n",
      "  vix = yf.download(\"^VIX\", period=PERIOD, interval=INTERVAL)[[\"Close\"]].reset_index()\n",
      "[*********************100%***********************]  1 of 1 completed\n"
     ]
    },
    {
     "name": "stdout",
     "output_type": "stream",
     "text": [
      "Macro downloaded from FRED.\n"
     ]
    }
   ],
   "source": [
    "# ========= 1) DOWNLOAD DATA =========\n",
    "PERIOD = \"5y\"   # use 5y to compute rolling features reliably (change if needed)\n",
    "INTERVAL = \"1d\"\n",
    "\n",
    "# S&P 500 and VIX from Yahoo\n",
    "spx = yf.download(\"^GSPC\", period=PERIOD, interval=INTERVAL)[[\"Close\"]].reset_index()\n",
    "spx.columns = [\"date\", \"spx_close\"]\n",
    "vix = yf.download(\"^VIX\", period=PERIOD, interval=INTERVAL)[[\"Close\"]].reset_index()\n",
    "vix.columns = [\"date\", \"vix\"]\n",
    "\n",
    "# Try FRED (preferred for macro). If not available, fall back to Yahoo proxies for rates.\n",
    "macro_cols = {}\n",
    "fred_ok = False\n",
    "if HAS_PDR:\n",
    "    try:\n",
    "        api_key = os.getenv(\"FRED_API_KEY\", None)\n",
    "        fred_kwargs = {\"api_key\": api_key} if api_key else {}\n",
    "        # Monthly CPI (index), monthly unemployment rate, daily/weekly rates:\n",
    "        # DGS10 (10Y Treasury %), FEDFUNDS (Effective Fed Funds %), CPIAUCSL, UNRATE\n",
    "        dgs10     = DataReader(\"DGS10\", \"fred\", **fred_kwargs)      # percent\n",
    "        fedfunds  = DataReader(\"FEDFUNDS\", \"fred\", **fred_kwargs)   # percent (monthly)\n",
    "        cpi       = DataReader(\"CPIAUCSL\", \"fred\", **fred_kwargs)   # index (monthly)\n",
    "        unrate    = DataReader(\"UNRATE\", \"fred\", **fred_kwargs)     # percent (monthly)\n",
    "\n",
    "        # Bring all to daily index for merging; forward-fill monthly values\n",
    "        macro = pd.concat(\n",
    "            [\n",
    "                dgs10.rename(columns={\"DGS10\": \"dgs10\"}),\n",
    "                fedfunds.rename(columns={\"FEDFUNDS\": \"fedfunds\"}),\n",
    "                cpi.rename(columns={\"CPIAUCSL\": \"cpi\"}),\n",
    "                unrate.rename(columns={\"UNRATE\": \"unrate\"}),\n",
    "            ],\n",
    "            axis=1\n",
    "        ).sort_index()\n",
    "\n",
    "        # Reindex to SPX calendar (business days from spx)\n",
    "        # and forward-fill to align macro to trading days.\n",
    "        calendar = pd.DataFrame(index=pd.to_datetime(spx[\"date\"]))\n",
    "        macro = calendar.join(macro, how=\"left\").ffill().reset_index(names=\"date\")\n",
    "\n",
    "        fred_ok = True\n",
    "        print(\"Macro downloaded from FRED.\")\n",
    "    except Exception as e:\n",
    "        print(\"FRED download failed (will fall back to Yahoo proxies for rates). Reason:\", e)\n",
    "\n",
    "if not fred_ok:\n",
    "    # Yahoo Finance proxies for rates (no CPI/UNRATE fallback available from Yahoo)\n",
    "    # ^TNX = 10Y yield * 10  (e.g., 45.6 means 4.56%)\n",
    "    # ^IRX = 13-week T-Bill (already reported in percent)\n",
    "    tnx = yf.download(\"^TNX\", period=PERIOD, interval=INTERVAL)[[\"Close\"]].reset_index()\n",
    "    tnx.columns = [\"date\", \"tnx_x10\"]\n",
    "    irx = yf.download(\"^IRX\", period=PERIOD, interval=INTERVAL)[[\"Close\"]].reset_index()\n",
    "    irx.columns = [\"date\", \"irx_pct\"]\n",
    "\n",
    "    # Convert ^TNX to percent\n",
    "    tnx[\"dgs10\"] = tnx[\"tnx_x10\"] / 10.0\n",
    "    tnx = tnx.drop(columns=[\"tnx_x10\"])\n",
    "\n",
    "    macro = (\n",
    "        pd.merge(tnx[[\"date\", \"dgs10\"]], irx[[\"date\", \"irx_pct\"]], on=\"date\", how=\"outer\")\n",
    "        .sort_values(\"date\")\n",
    "        .ffill()\n",
    "    )\n",
    "    macro[\"fedfunds\"] = np.nan  # not available in fallback\n",
    "    macro[\"cpi\"] = np.nan       # not available in fallback\n",
    "    macro[\"unrate\"] = np.nan    # not available in fallback\n",
    "    print(\"Macro downloaded from Yahoo proxies (rates only). CPI/UNRATE missing.\")\n",
    "\n",
    "# Save raw pulls (optional, reproducibility)\n",
    "raw_stamp = ts()\n",
    "spx.to_csv(RAW / f\"spx_yf_{raw_stamp}.csv\", index=False)\n",
    "vix.to_csv(RAW / f\"vix_yf_{raw_stamp}.csv\", index=False)\n",
    "macro.to_csv(RAW / f\"macro_{'fred' if fred_ok else 'yahoo'}_{raw_stamp}.csv\", index=False)"
   ]
  },
  {
   "cell_type": "markdown",
   "id": "5a582b0a",
   "metadata": {},
   "source": [
    "## Documentation\n",
    "- **Source**\n",
    "    - URL/endpoint: yfinance (no direct URL)\n",
    "    - Ticker: ^GSPC (S&P 500 Index), ^VIX (CBOE Volatility Index) \n",
    "    - Params period='1y', interval='1d'\n",
    "    - Output: Daily adjusted close prices stored as CSV in data/raw/ with timestamped filenames \n",
    "- **Assumptions & risks**\n",
    "    - Yfinance provides sufficient historical market and volatility data for analysis. \n",
    "    - Required columns exist and are validated after download.\n",
    "    - Data is stored locally as CSV with timestamp, ensuring reproducibility\n",
    "    - Free data source (yfinance) may be subject to outages or delays\n",
    "    - VIX and S&P 500 availability depends on Yahoo Finance's API backend, which may change without notice\n",
    "    - CSV schema is simple, but if yfinance changes column names, downstream validation could fail \n",
    "- Confirm `.env` is not committed"
   ]
  }
 ],
 "metadata": {
  "kernelspec": {
   "display_name": "Python 3 (ipykernel)",
   "language": "python",
   "name": "python3"
  },
  "language_info": {
   "codemirror_mode": {
    "name": "ipython",
    "version": 3
   },
   "file_extension": ".py",
   "mimetype": "text/x-python",
   "name": "python",
   "nbconvert_exporter": "python",
   "pygments_lexer": "ipython3",
   "version": "3.10.18"
  }
 },
 "nbformat": 4,
 "nbformat_minor": 5
}
