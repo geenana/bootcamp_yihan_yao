{
 "cells": [
  {
   "cell_type": "markdown",
   "id": "1568ee35",
   "metadata": {},
   "source": [
    "# Stage 13 Homework Starter — Productization\n",
    "\n",
    "## Objective\n",
    "Deploy your trained model as a **reusable, handoff-ready API or dashboard** and finalize your project for reproducibility and clarity."
   ]
  },
  {
   "cell_type": "markdown",
   "id": "34df0239",
   "metadata": {},
   "source": [
    "## Steps\n",
    "1. Create a mock, very basic analysis in a notebook.\n",
    "2. Clean your notebook by removing exploratory cells and documenting your code.\n",
    "3. Move reusable functions into `/src/`.\n",
    "4. Load your trained model from Stage 12 or earlier stages.\n",
    "5. Pickle/save the model and test reload.\n",
    "6. Implement **either**:\n",
    "   - Flask API with `/predict` endpoint and optional parameters\n",
    "   - Streamlit or Dash dashboard for user interaction\n",
    "7. Include:\n",
    "   - Error handling for invalid inputs\n",
    "   - `requirements.txt` for reproducibility\n",
    "   - Documentation in `README.md`\n",
    "8. Test your deployment locally and provide evidence.\n",
    "9. Organize project folders and finalize notebooks for handoff."
   ]
  },
  {
   "cell_type": "markdown",
   "id": "8e003adc",
   "metadata": {},
   "source": [
    "## 1. Create mock, very basic analysis"
   ]
  },
  {
   "cell_type": "code",
   "execution_count": 1,
   "id": "02237820-ca27-41da-9b2c-acccff346035",
   "metadata": {},
   "outputs": [
    {
     "data": {
      "text/html": [
       "<div>\n",
       "<style scoped>\n",
       "    .dataframe tbody tr th:only-of-type {\n",
       "        vertical-align: middle;\n",
       "    }\n",
       "\n",
       "    .dataframe tbody tr th {\n",
       "        vertical-align: top;\n",
       "    }\n",
       "\n",
       "    .dataframe thead th {\n",
       "        text-align: right;\n",
       "    }\n",
       "</style>\n",
       "<table border=\"1\" class=\"dataframe\">\n",
       "  <thead>\n",
       "    <tr style=\"text-align: right;\">\n",
       "      <th></th>\n",
       "      <th>date</th>\n",
       "      <th>spx_close</th>\n",
       "      <th>vix</th>\n",
       "      <th>dgs10</th>\n",
       "      <th>fedfunds</th>\n",
       "      <th>cpi</th>\n",
       "      <th>unrate</th>\n",
       "      <th>spx_ret</th>\n",
       "      <th>rv_21d_pct</th>\n",
       "      <th>vrp_ratio</th>\n",
       "      <th>rate_shock_5d_bps</th>\n",
       "    </tr>\n",
       "  </thead>\n",
       "  <tbody>\n",
       "    <tr>\n",
       "      <th>0</th>\n",
       "      <td>2020-10-23</td>\n",
       "      <td>0.070698</td>\n",
       "      <td>0.387695</td>\n",
       "      <td>0.85</td>\n",
       "      <td>0.09</td>\n",
       "      <td>260.319</td>\n",
       "      <td>6.9</td>\n",
       "      <td>0.053491</td>\n",
       "      <td>721.180880</td>\n",
       "      <td>-0.999462</td>\n",
       "      <td>9.0</td>\n",
       "    </tr>\n",
       "    <tr>\n",
       "      <th>1</th>\n",
       "      <td>2020-10-26</td>\n",
       "      <td>0.050764</td>\n",
       "      <td>0.509019</td>\n",
       "      <td>0.81</td>\n",
       "      <td>0.09</td>\n",
       "      <td>260.319</td>\n",
       "      <td>6.9</td>\n",
       "      <td>-0.331233</td>\n",
       "      <td>395.760560</td>\n",
       "      <td>-0.998714</td>\n",
       "      <td>3.0</td>\n",
       "    </tr>\n",
       "    <tr>\n",
       "      <th>2</th>\n",
       "      <td>2020-10-27</td>\n",
       "      <td>0.047580</td>\n",
       "      <td>0.531011</td>\n",
       "      <td>0.79</td>\n",
       "      <td>0.09</td>\n",
       "      <td>260.319</td>\n",
       "      <td>6.9</td>\n",
       "      <td>-0.064779</td>\n",
       "      <td>337.028035</td>\n",
       "      <td>-0.998424</td>\n",
       "      <td>-2.0</td>\n",
       "    </tr>\n",
       "    <tr>\n",
       "      <th>3</th>\n",
       "      <td>2020-10-28</td>\n",
       "      <td>0.010555</td>\n",
       "      <td>0.702249</td>\n",
       "      <td>0.79</td>\n",
       "      <td>0.09</td>\n",
       "      <td>260.319</td>\n",
       "      <td>6.9</td>\n",
       "      <td>-1.505799</td>\n",
       "      <td>624.620781</td>\n",
       "      <td>-0.998876</td>\n",
       "      <td>-4.0</td>\n",
       "    </tr>\n",
       "    <tr>\n",
       "      <th>4</th>\n",
       "      <td>2020-10-29</td>\n",
       "      <td>0.022648</td>\n",
       "      <td>0.635780</td>\n",
       "      <td>0.85</td>\n",
       "      <td>0.09</td>\n",
       "      <td>260.319</td>\n",
       "      <td>6.9</td>\n",
       "      <td>0.763468</td>\n",
       "      <td>678.915848</td>\n",
       "      <td>-0.999064</td>\n",
       "      <td>-2.0</td>\n",
       "    </tr>\n",
       "  </tbody>\n",
       "</table>\n",
       "</div>"
      ],
      "text/plain": [
       "        date  spx_close       vix  dgs10  fedfunds      cpi  unrate   spx_ret  \\\n",
       "0 2020-10-23   0.070698  0.387695   0.85      0.09  260.319     6.9  0.053491   \n",
       "1 2020-10-26   0.050764  0.509019   0.81      0.09  260.319     6.9 -0.331233   \n",
       "2 2020-10-27   0.047580  0.531011   0.79      0.09  260.319     6.9 -0.064779   \n",
       "3 2020-10-28   0.010555  0.702249   0.79      0.09  260.319     6.9 -1.505799   \n",
       "4 2020-10-29   0.022648  0.635780   0.85      0.09  260.319     6.9  0.763468   \n",
       "\n",
       "   rv_21d_pct  vrp_ratio  rate_shock_5d_bps  \n",
       "0  721.180880  -0.999462                9.0  \n",
       "1  395.760560  -0.998714                3.0  \n",
       "2  337.028035  -0.998424               -2.0  \n",
       "3  624.620781  -0.998876               -4.0  \n",
       "4  678.915848  -0.999064               -2.0  "
      ]
     },
     "execution_count": 1,
     "metadata": {},
     "output_type": "execute_result"
    }
   ],
   "source": [
    "# Setup & Import dataset\n",
    "import pandas as pd\n",
    "import numpy as np\n",
    "\n",
    "df = pd.read_csv(\"../data/processed/engineered_features.csv\", parse_dates=['date'])\n",
    "df.head()"
   ]
  },
  {
   "cell_type": "code",
   "execution_count": 2,
   "id": "88fadda7",
   "metadata": {},
   "outputs": [
    {
     "name": "stdout",
     "output_type": "stream",
     "text": [
      "Basic analysis complete.\n"
     ]
    }
   ],
   "source": [
    "# Basic analysis\n",
    "# print(df.describe())\n",
    "# print(\"\\n\")\n",
    "# print(df.corr()[\"spx_ret\"].sort_values(ascending=False))\n",
    "# print(\"\\n\")\n",
    "print(\"Basic analysis complete.\")"
   ]
  },
  {
   "cell_type": "markdown",
   "id": "6265a42f",
   "metadata": {},
   "source": [
    "## 2. Notebook Cleanup\n",
    "Remove exploratory cells and document your code."
   ]
  },
  {
   "cell_type": "code",
   "execution_count": 3,
   "id": "343b1828",
   "metadata": {},
   "outputs": [
    {
     "name": "stdout",
     "output_type": "stream",
     "text": [
      "Notebook cleaned and ready for handoff.\n"
     ]
    }
   ],
   "source": [
    "# Example placeholder for cleaned analysis\n",
    "print(\"Notebook cleaned and ready for handoff.\")"
   ]
  },
  {
   "cell_type": "markdown",
   "id": "b55295dd",
   "metadata": {},
   "source": [
    "## 3. Move reusable functions to /src/\n",
    "Create src/utils.py and store functions there."
   ]
  },
  {
   "cell_type": "code",
   "execution_count": 4,
   "id": "1930ebea",
   "metadata": {},
   "outputs": [
    {
     "name": "stdout",
     "output_type": "stream",
     "text": [
      "src/utils.py are successfully implemented.\n"
     ]
    }
   ],
   "source": [
    "import sys\n",
    "import os\n",
    "\n",
    "# Add parent folder to sys.path\n",
    "sys.path.append(os.path.abspath(\"..\"))\n",
    "\n",
    "from src.utils import *\n",
    "\n",
    "# def calculate_metrics(df):\n",
    "#     return df.describe()\n",
    "print(\"src/utils.py are successfully implemented.\")"
   ]
  },
  {
   "cell_type": "markdown",
   "id": "3f5261dd",
   "metadata": {},
   "source": [
    "## 4. Folder Structure Reminder\n",
    "\n",
    "Ensure your project uses a clean folder structure:\n",
    "```\n",
    "project/\n",
    "  data/\n",
    "  notebooks/\n",
    "  src/\n",
    "  reports/\n",
    "  model/\n",
    "  README.md\n",
    "```\n",
    "For API/Dashboard: minimal example:\n",
    "```\n",
    "project/\n",
    "    app.py\n",
    "    model.pkl\n",
    "    requirements.txt\n",
    "    README.md\n",
    "```"
   ]
  },
  {
   "cell_type": "markdown",
   "id": "b2d755b8",
   "metadata": {},
   "source": [
    "## 5. Pickle / Save Final Model"
   ]
  },
  {
   "cell_type": "code",
   "execution_count": 5,
   "id": "e3fa2ec3-6e80-4ea4-ac38-5763443fad04",
   "metadata": {},
   "outputs": [
    {
     "name": "stdout",
     "output_type": "stream",
     "text": [
      "Coefficients: [ 1.25182438e-01  2.41220117e-02  3.72879508e-03  5.22606759e-03\n",
      " -2.22134545e-03 -1.57497742e-02  2.07780203e-04 -5.75439987e+00\n",
      " -4.12313998e-04]\n",
      "Intercept: -5.108476512187234\n",
      "R²: -0.0920205256041049\n",
      "RMSE: 0.01050586964447944\n"
     ]
    }
   ],
   "source": [
    "# Implement model \n",
    "\n",
    "from sklearn.model_selection import train_test_split\n",
    "from sklearn.linear_model import LinearRegression\n",
    "from sklearn.metrics import r2_score, mean_squared_error\n",
    "\n",
    "X = df[[\"spx_close\",\"vix\",\"dgs10\",\"fedfunds\",\"cpi\",\n",
    "        \"unrate\",\"rv_21d_pct\",\"vrp_ratio\",\"rate_shock_5d_bps\"]]\n",
    "y = df[\"spx_ret\"]\n",
    "X_train, X_test, y_train, y_test = train_test_split(X, y, test_size=0.4, random_state=42)\n",
    "\n",
    "model = LinearRegression()\n",
    "model.fit(X_train, y_train)\n",
    "\n",
    "y_pred = model.predict(X_test)\n",
    "print(\"Coefficients:\", model.coef_)\n",
    "print(\"Intercept:\", model.intercept_)\n",
    "print(\"R²:\", r2_score(y_test, y_pred))\n",
    "print(\"RMSE:\", mean_squared_error(y_test, y_pred))"
   ]
  },
  {
   "cell_type": "code",
   "execution_count": 6,
   "id": "9aaa873a",
   "metadata": {},
   "outputs": [
    {
     "name": "stdout",
     "output_type": "stream",
     "text": [
      "Model saved to model/model.pkl\n",
      "Model successfully reloaded.\n",
      "Example prediction: [0.02554554]\n"
     ]
    },
    {
     "name": "stderr",
     "output_type": "stream",
     "text": [
      "/opt/miniconda3/envs/bootcamp_env/lib/python3.10/site-packages/sklearn/utils/validation.py:2749: UserWarning: X does not have valid feature names, but LinearRegression was fitted with feature names\n",
      "  warnings.warn(\n"
     ]
    }
   ],
   "source": [
    "import pickle\n",
    "\n",
    "os.makedirs(\"../model\", exist_ok=True)  # ensure folder exists\n",
    "\n",
    "with open('../model/model.pkl', 'wb') as f:\n",
    "    pickle.dump(model, f)\n",
    "print(\"Model saved to model/model.pkl\")\n",
    "\n",
    "# Test loading the model\n",
    "with open('../model/model.pkl', 'rb') as f:\n",
    "    loaded_model = pickle.load(f)\n",
    "print(\"Model successfully reloaded.\")\n",
    "\n",
    "example_features = [[0.1, 0.2, 0.3, 0.5, 260, 7.0, 500, -0.99, 0.0]]\n",
    "print(\"Example prediction:\", loaded_model.predict(example_features))"
   ]
  },
  {
   "cell_type": "markdown",
   "id": "c3935500",
   "metadata": {},
   "source": [
    "## 6. Flask API Starter\n",
    "\n",
    "### Implement Flask endpoints for /predict and /plot"
   ]
  },
  {
   "cell_type": "code",
   "execution_count": 7,
   "id": "8787a9fc",
   "metadata": {},
   "outputs": [
    {
     "name": "stdout",
     "output_type": "stream",
     "text": [
      " * Serving Flask app '__main__'\n",
      " * Debug mode: off\n"
     ]
    },
    {
     "name": "stderr",
     "output_type": "stream",
     "text": [
      "Address already in use\n",
      "Port 5000 is in use by another program. Either identify and stop that program, or start the server with a different port.\n",
      "On macOS, try disabling the 'AirPlay Receiver' service from System Preferences -> General -> AirDrop & Handoff.\n"
     ]
    }
   ],
   "source": [
    "from flask import Flask, request, jsonify\n",
    "import threading\n",
    "import matplotlib.pyplot as plt\n",
    "import io\n",
    "import base64\n",
    "\n",
    "MODEL_PATH = \"../model/model.pkl\"\n",
    "\n",
    "if not os.path.exists(MODEL_PATH):\n",
    "    raise FileNotFoundError(f\"Model file not found at {MODEL_PATH}. Train the model first.\")\n",
    "\n",
    "with open(MODEL_PATH, \"rb\") as f:\n",
    "    model = pickle.load(f)\n",
    "    \n",
    "app = Flask(__name__)\n",
    "\n",
    "@app.route('/predict', methods=['POST'])\n",
    "def predict():\n",
    "    \"\"\"\n",
    "    Expects JSON: {\"features\": [spx_close, vix, dgs10, fedfunds, cpi, unrate, rv_21d_pct, vrp_ratio, rate_shock_5d_bps]}\n",
    "    Returns model prediction for SPX returns.\n",
    "    \"\"\"\n",
    "    data = request.get_json()\n",
    "    features = data.get('features', None)\n",
    "    if features is None:\n",
    "        return jsonify({'error': 'No features provided'}), 400\n",
    "\n",
    "    if len(features) != 9:\n",
    "        return jsonify({\"error\": \"Expected 9 features\"}), 400\n",
    "\n",
    "    features_array = np.array(features).reshape(1, -1)\n",
    "    pred = model.predict(features_array)[0]\n",
    "    \n",
    "    return jsonify({\"prediction\": float(pred)})\n",
    "\n",
    "@app.route('/predict/<float:input1>', methods=['GET'])\n",
    "def predict_one(input1):\n",
    "    pred = input1 * 2  # placeholder\n",
    "    return jsonify({'prediction': pred})\n",
    "\n",
    "@app.route('/predict/<float:input1>/<float:input2>', methods=['GET'])\n",
    "def predict_two(input1, input2):\n",
    "    pred = input1 + input2  # placeholder\n",
    "    return jsonify({'prediction': pred})\n",
    "\n",
    "@app.route('/plot')\n",
    "def plot():\n",
    "\n",
    "    # List to store base64 images\n",
    "    images_html = \"\"\n",
    "\n",
    "    # 1. SPX Returns Over Time\n",
    "    fig, ax = plt.subplots()\n",
    "    ax.plot(df['date'], df['spx_ret'], marker='o')\n",
    "    ax.set_title(\"SPX Returns Over Time\")\n",
    "    ax.set_xlabel(\"Date\")\n",
    "    ax.set_ylabel(\"SPX Return\")\n",
    "    ax.grid(True)\n",
    "    \n",
    "    buf = io.BytesIO()\n",
    "    fig.savefig(buf, format='png')\n",
    "    buf.seek(0)\n",
    "    img_bytes = base64.b64encode(buf.read()).decode('utf-8')\n",
    "    images_html += f'<h3>SPX Returns Over Time</h3><img src=\"data:image/png;base64,{img_bytes}\"/><br>'\n",
    "    plt.close(fig)\n",
    "\n",
    "    # 2. VIX Over Time\n",
    "    fig, ax = plt.subplots()\n",
    "    ax.plot(df['date'], df['vix'], marker='s', color='orange')\n",
    "    ax.set_title(\"VIX Over Time\")\n",
    "    ax.set_xlabel(\"Date\")\n",
    "    ax.set_ylabel(\"VIX\")\n",
    "    ax.grid(True)\n",
    "\n",
    "    buf = io.BytesIO()\n",
    "    fig.savefig(buf, format='png')\n",
    "    buf.seek(0)\n",
    "    img_bytes = base64.b64encode(buf.read()).decode('utf-8')\n",
    "    images_html += f'<h3>VIX Over Time</h3><img src=\"data:image/png;base64,{img_bytes}\"/><br>'\n",
    "    plt.close(fig)\n",
    "\n",
    "    # 3. Realized Volatility vs SPX Returns\n",
    "    fig, ax = plt.subplots()\n",
    "    ax.scatter(df['rv_21d_pct'], df['spx_ret'], color='green')\n",
    "    ax.set_title(\"Realized Volatility (21d) vs SPX Returns\")\n",
    "    ax.set_xlabel(\"RV 21d (%)\")\n",
    "    ax.set_ylabel(\"SPX Return\")\n",
    "    ax.grid(True)\n",
    "\n",
    "    buf = io.BytesIO()\n",
    "    fig.savefig(buf, format='png')\n",
    "    buf.seek(0)\n",
    "    img_bytes = base64.b64encode(buf.read()).decode('utf-8')\n",
    "    images_html += f'<h3>Realized Volatility vs SPX Returns</h3><img src=\"data:image/png;base64,{img_bytes}\"/>'\n",
    "    plt.close(fig)\n",
    "\n",
    "    # Return all plots in HTML\n",
    "    return images_html\n",
    "\n",
    "def run_flask():\n",
    "    app.run(port=5000)\n",
    "\n",
    "# Launch Flask in a separate thread\n",
    "threading.Thread(target=run_flask).start()"
   ]
  },
  {
   "cell_type": "markdown",
   "id": "6edc08dc",
   "metadata": {},
   "source": [
    "## 7. Testing the Flask API from Notebook\n",
    "\n",
    "### Modify examples with your actual features"
   ]
  },
  {
   "cell_type": "code",
   "execution_count": 8,
   "id": "68903c01",
   "metadata": {},
   "outputs": [
    {
     "name": "stdout",
     "output_type": "stream",
     "text": [
      "{'prediction': 0.1238738601053031}\n",
      "{'prediction': 4.0}\n",
      "{'prediction': 4.0}\n"
     ]
    },
    {
     "data": {
      "text/html": [
       "<h3>SPX Returns Over Time</h3><img src=\"data:image/png;base64,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\"/><br><h3>VIX Over Time</h3><img src=\"data:image/png;base64,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\"/><br><h3>Realized Volatility vs SPX Returns</h3><img src=\"data:image/png;base64,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\"/>"
      ],
      "text/plain": [
       "<IPython.core.display.HTML object>"
      ]
     },
     "metadata": {},
     "output_type": "display_data"
    }
   ],
   "source": [
    "import requests\n",
    "from IPython.display import display, HTML\n",
    "\n",
    "# Example feature vector\n",
    "example_features = [0.070698, 0.387695, 0.85, 0.09, 260.319, 6.9, 721.180880, -0.999462, 9.0]\n",
    "\n",
    "# POST /predict\n",
    "response = requests.post(\n",
    "    'http://127.0.0.1:5000/predict',\n",
    "    json={'features':example_features}\n",
    ")\n",
    "print(response.json())\n",
    "\n",
    "# GET /predict/<input1>\n",
    "response2 = requests.get('http://127.0.0.1:5000/predict/2.0')\n",
    "print(response2.json())\n",
    "\n",
    "# GET /predict/<input1>/<input2>\n",
    "response3 = requests.get('http://127.0.0.1:5000/predict/1.0/3.0')\n",
    "print(response3.json())\n",
    "\n",
    "# GET /plot\n",
    "response_plot = requests.get('http://127.0.0.1:5000/plot')\n",
    "display(HTML(response_plot.text))"
   ]
  },
  {
   "cell_type": "markdown",
   "id": "d68af885",
   "metadata": {},
   "source": [
    "## 8. Optional Streamlit / Dash Dashboard\n",
    "\n",
    "### Add dashboard in a separate file (`app_streamlit.py` or `app_dash.py`)"
   ]
  },
  {
   "cell_type": "markdown",
   "id": "00f43481",
   "metadata": {},
   "source": [
    "## 9. Handoff Best Practices\n",
    "\n",
    "- Ensure README.md is complete and clear\n",
    "- Provide `requirements.txt` for reproducibility\n",
    "- Ensure pickled model and scripts are in correct folders\n",
    "- Verify another user can run the project end-to-end on a fresh environment"
   ]
  }
 ],
 "metadata": {
  "kernelspec": {
   "display_name": "Python 3 (ipykernel)",
   "language": "python",
   "name": "python3"
  },
  "language_info": {
   "codemirror_mode": {
    "name": "ipython",
    "version": 3
   },
   "file_extension": ".py",
   "mimetype": "text/x-python",
   "name": "python",
   "nbconvert_exporter": "python",
   "pygments_lexer": "ipython3",
   "version": "3.10.18"
  }
 },
 "nbformat": 4,
 "nbformat_minor": 5
}
