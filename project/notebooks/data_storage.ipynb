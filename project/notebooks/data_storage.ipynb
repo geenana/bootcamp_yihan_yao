{
 "cells": [
  {
   "cell_type": "code",
   "execution_count": 1,
   "id": "b71994bf-16b1-4942-97a4-efda4b738eb6",
   "metadata": {},
   "outputs": [
    {
     "name": "stdout",
     "output_type": "stream",
     "text": [
      "RAW -> /Users/yihanyao/bootcamp_yihan_yao/project/data/raw\n",
      "PROC -> /Users/yihanyao/bootcamp_yihan_yao/project/data/processed\n"
     ]
    }
   ],
   "source": [
    "import os, pathlib, datetime as dt\n",
    "import pandas as pd\n",
    "from dotenv import load_dotenv\n",
    "\n",
    "load_dotenv()\n",
    "RAW = pathlib.Path(os.getenv('DATA_DIR_RAW', 'data/raw'))\n",
    "PROC = pathlib.Path(os.getenv('DATA_DIR_PROCESSED', 'data/processed'))\n",
    "RAW.mkdir(parents=True, exist_ok=True)\n",
    "PROC.mkdir(parents=True, exist_ok=True)\n",
    "print('RAW ->', RAW.resolve())\n",
    "print('PROC ->', PROC.resolve())"
   ]
  },
  {
   "cell_type": "code",
   "execution_count": 2,
   "id": "c493d514-7248-4f42-b598-3a0bcc7ccc0e",
   "metadata": {},
   "outputs": [
    {
     "name": "stdout",
     "output_type": "stream",
     "text": [
      "Loaded CSV: market_source-yfinance_symbol-^GSPC_name-sp500_20250820_102321.csv (251, 2)\n",
      "Saved Parquet: market_source-yfinance_symbol-^GSPC_name-sp500_20250820_102321.parquet\n",
      "CSV validation: {'shape_equal': True, 'date_is_datetime': True, 'adj_close_is_numeric': True}\n",
      "Parquet validation: {'shape_equal': True, 'date_is_datetime': True, 'adj_close_is_numeric': True}\n"
     ]
    }
   ],
   "source": [
    "def validate_loaded(original, reloaded):\n",
    "    checks = {\n",
    "        'shape_equal': original.shape == reloaded.shape,\n",
    "        'date_is_datetime': pd.api.types.is_datetime64_any_dtype(reloaded['date']) if 'date' in reloaded.columns else False,\n",
    "        'adj_close_is_numeric': pd.api.types.is_numeric_dtype(reloaded['adj_close']) if 'adj_close' in reloaded.columns else False,\n",
    "    }\n",
    "    return checks\n",
    "\n",
    "# pick the first CSV file in raw folder \n",
    "csv_files = sorted(RAW.glob(\"*.csv\"))\n",
    "if not csv_files:\n",
    "    raise FileNotFoundError(\"No CSV files found in data/raw/\")\n",
    "csv_path = csv_files[0]\n",
    "\n",
    "df_csv = pd.read_csv(csv_path, parse_dates=['date'])\n",
    "print(\"Loaded CSV:\", csv_path.name, df_csv.shape)\n",
    "\n",
    "# store as Parquet in processed folder\n",
    "pq_path = PROC / (csv_path.stem + \".parquet\")\n",
    "df_csv.to_parquet(pq_path, index=False)\n",
    "print(\"Saved Parquet:\", pq_path.name)\n",
    "\n",
    "# reload and validate\n",
    "print(\"CSV validation:\", validate_loaded(df_csv, df_csv))\n",
    "\n",
    "try:\n",
    "    df_pq = pd.read_parquet(pq_path)\n",
    "    print(\"Parquet validation:\", validate_loaded(df_csv, df_pq))\n",
    "except Exception as e:\n",
    "    print(\"Parquet read failed:\", e)"
   ]
  },
  {
   "cell_type": "code",
   "execution_count": null,
   "id": "9d298ac0-973b-46fc-9834-1ddc4c2c57e2",
   "metadata": {},
   "outputs": [],
   "source": []
  }
 ],
 "metadata": {
  "kernelspec": {
   "display_name": "Python [conda env:bootcamp_env]",
   "language": "python",
   "name": "bootcamp_env"
  },
  "language_info": {
   "codemirror_mode": {
    "name": "ipython",
    "version": 3
   },
   "file_extension": ".py",
   "mimetype": "text/x-python",
   "name": "python",
   "nbconvert_exporter": "python",
   "pygments_lexer": "ipython3",
   "version": "3.10.18"
  }
 },
 "nbformat": 4,
 "nbformat_minor": 5
}
