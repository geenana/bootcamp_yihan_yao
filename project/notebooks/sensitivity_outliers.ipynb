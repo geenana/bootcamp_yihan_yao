{
 "cells": [
  {
   "cell_type": "code",
   "execution_count": 3,
   "id": "7622a360-581a-47d1-81fe-e114decc4a00",
   "metadata": {},
   "outputs": [
    {
     "data": {
      "image/png": "[encoded data removed]",
      "text/plain": [
       "<Figure size 640x480 with 1 Axes>"
      ]
     },
     "metadata": {},
     "output_type": "display_data"
    },
    {
     "name": "stdout",
     "output_type": "stream",
     "text": [
      "             all  filtered_iqr  winsorized\n",
      "mean    0.430592      0.430592    0.430048\n",
      "median  0.363669      0.363669    0.363669\n",
      "std     0.245414      0.245414    0.235908\n"
     ]
    }
   ],
   "source": [
    "import pandas as pd\n",
    "from pathlib import Path\n",
    "import sys\n",
    "import matplotlib.pyplot as plt\n",
    "\n",
    "PROJECT_ROOT = Path(\"..\").resolve()\n",
    "sys.path.append(str(PROJECT_ROOT))\n",
    "\n",
    "# Import functions from outliers.py\n",
    "from src.outliers import detect_outliers_iqr, winsorize_series  \n",
    "\n",
    "# Load preprocessed dataset \n",
    "df = pd.read_csv(\"../data/processed/preprocessed_dataset.csv\")\n",
    "\n",
    "# Pick a target column for analysis (S&P 500 close)\n",
    "target_col = \"spx_close\"\n",
    "\n",
    "plt.figure()\n",
    "plt.boxplot(df[target_col])\n",
    "plt.title(f'Boxplot: {target_col}')\n",
    "plt.show()\n",
    "\n",
    "# Detect outliers using IQR \n",
    "df['outlier_iqr'] = detect_outliers_iqr(df[target_col])\n",
    "\n",
    "# Summary statistics\n",
    "summ_all = df[target_col].describe()[['mean', '50%', 'std']].rename({'50%': 'median'})\n",
    "summ_filtered = (\n",
    "    df.loc[~df['outlier_iqr'], target_col]\n",
    "    .describe()[['mean', '50%', 'std']]\n",
    "    .rename({'50%': 'median'})\n",
    ")\n",
    "\n",
    "# Winsorized version\n",
    "summ_w = winsorize_series(df[target_col]).describe()[['mean', '50%', 'std']].rename({'50%': 'median'})\n",
    "\n",
    "# --- Comparison table ---\n",
    "comp = pd.concat(\n",
    "    {\n",
    "        'all': summ_all,\n",
    "        'filtered_iqr': summ_filtered,\n",
    "        'winsorized': summ_w,\n",
    "    },\n",
    "    axis=1\n",
    ")\n",
    "\n",
    "print(comp)"
   ]
  },
  {
   "cell_type": "code",
   "execution_count": null,
   "id": "75a25609-242b-4d5c-ace3-3673261d5d3f",
   "metadata": {},
   "outputs": [],
   "source": []
  }
 ],
 "metadata": {
  "kernelspec": {
   "display_name": "Python [conda env:bootcamp_env]",
   "language": "python",
   "name": "bootcamp_env"
  },
  "language_info": {
   "codemirror_mode": {
    "name": "ipython",
    "version": 3
   },
   "file_extension": ".py",
   "mimetype": "text/x-python",
   "name": "python",
   "nbconvert_exporter": "python",
   "pygments_lexer": "ipython3",
   "version": "3.10.18"
  }
 },
 "nbformat": 4,
 "nbformat_minor": 5
}
