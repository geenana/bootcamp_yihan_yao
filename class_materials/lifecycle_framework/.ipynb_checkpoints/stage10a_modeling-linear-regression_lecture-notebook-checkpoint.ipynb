{
 "cells": [
  {
   "cell_type": "markdown",
   "id": "73a0bdbe",
   "metadata": {},
   "source": [
    "# Stage 10a — Modeling: Linear Regression (Lecture)\n",
    "\n",
    "**Theme:** Assumption-first modeling; interpretation as storytelling.\n",
    "\n",
    "This notebook generates its own synthetic finance-flavored dataset (no external files) and walks through:\n",
    "1) Fit a baseline linear regression\n",
    "2) Diagnose residuals (linearity, homoscedasticity, normality, independence)\n",
    "3) Add a polynomial term to improve specification (still linear regression)\n",
    "4) Optional statsmodels cameo for interpretive output"
   ]
  },
  {
   "cell_type": "code",
   "execution_count": null,
   "id": "d834d200",
   "metadata": {},
   "outputs": [],
   "source": [
    "# Imports\n",
    "import numpy as np\n",
    "import pandas as pd\n",
    "import matplotlib.pyplot as plt\n",
    "import seaborn as sns\n",
    "from sklearn.linear_model import LinearRegression\n",
    "from sklearn.metrics import r2_score, mean_squared_error\n",
    "from sklearn.model_selection import train_test_split\n",
    "import scipy.stats as st\n",
    "sns.set()\n",
    "np.random.seed(42)"
   ]
  },
  {
   "cell_type": "markdown",
   "id": "bfa9e233",
   "metadata": {},
   "source": [
    "## 1) Generate synthetic finance-like data\n",
    "- Factors: market (mkt_excess), size, value, momentum\n",
    "- Target: asset_excess = β·factors + β2·momentum^2 + heteroscedastic noise (∝ |mkt_excess|)\n",
    "- 240 business days (~1 year)"
   ]
  },
  {
   "cell_type": "code",
   "execution_count": null,
   "id": "d860b8b9",
   "metadata": {},
   "outputs": [],
   "source": [
    "n = 240\n",
    "dates = pd.bdate_range(start='2024-01-02', periods=n)\n",
    "\n",
    "# Simulate factor returns\n",
    "mkt_excess = np.random.normal(0, 0.01, size=n)\n",
    "size = np.random.normal(0, 0.008, size=n)\n",
    "value = np.random.normal(0, 0.008, size=n)\n",
    "momentum = np.random.normal(0, 0.006, size=n)\n",
    "\n",
    "# True coefficients\n",
    "beta0 = 0.0002\n",
    "beta_mkt = 0.8\n",
    "beta_size = 0.3\n",
    "beta_value = -0.2\n",
    "beta_mom = 0.4\n",
    "beta_mom2 = 4.0  # introduce a mild quadratic effect\n",
    "\n",
    "# Heteroscedastic noise: scale increases with |market|\n",
    "noise_scale = 0.004 + 0.6 * np.abs(mkt_excess)\n",
    "eps = np.random.normal(0, noise_scale)\n",
    "\n",
    "asset_excess = (\n",
    "    beta0 + beta_mkt * mkt_excess + beta_size * size + beta_value * value + beta_mom * momentum\n",
    "    + beta_mom2 * (momentum ** 2)\n",
    "    + eps\n",
    ")\n",
    "\n",
    "df = pd.DataFrame({\n",
    "    'date': dates,\n",
    "    'mkt_excess': mkt_excess,\n",
    "    'size': size,\n",
    "    'value': value,\n",
    "    'momentum': momentum,\n",
    "    'asset_excess': asset_excess\n",
    "})\n",
    "df.head()"
   ]
  },
  {
   "cell_type": "code",
   "execution_count": null,
   "id": "fc42f32e",
   "metadata": {},
   "outputs": [],
   "source": [
    "df.describe().T"
   ]
  },
  {
   "cell_type": "markdown",
   "id": "7fb8a23e",
   "metadata": {},
   "source": [
    "## 2) Baseline model (no polynomial term)\n",
    "We start with `X = [mkt_excess, size, value, momentum]` and `y = asset_excess`.\n",
    "- Split 80/20\n",
    "- Fit and score (R², RMSE)\n",
    "- Plot residual diagnostics"
   ]
  },
  {
   "cell_type": "code",
   "execution_count": null,
   "id": "626a1478",
   "metadata": {},
   "outputs": [],
   "source": [
    "X = df[['mkt_excess','size','value','momentum']]\n",
    "y = df['asset_excess']\n",
    "X_train, X_test, y_train, y_test = train_test_split(X, y, test_size=0.2, shuffle=False)\n",
    "\n",
    "lr = LinearRegression()\n",
    "lr.fit(X_train, y_train)\n",
    "y_pred = lr.predict(X_test)\n",
    "\n",
    "r2 = r2_score(y_test, y_pred)\n",
    "# rmse = mean_squared_error(y_test, y_pred, squared=False)\n",
    "mse = mean_squared_error(y_test, y_pred)\n",
    "rmse = np.sqrt(mse)\n",
    "r2, rmse\n",
    "\n",
    "r2, rmse"
   ]
  },
  {
   "cell_type": "code",
   "execution_count": null,
   "id": "6a7a5c22",
   "metadata": {},
   "outputs": [],
   "source": [
    "resid = y_test - y_pred\n",
    "fitted = y_pred\n",
    "\n",
    "plt.figure()\n",
    "plt.scatter(fitted, resid)\n",
    "plt.axhline(0, linestyle='--')\n",
    "plt.title('Residuals vs Fitted (Baseline)')\n",
    "plt.xlabel('Fitted values')\n",
    "plt.ylabel('Residuals')\n",
    "plt.show()\n",
    "\n",
    "plt.figure()\n",
    "plt.hist(resid, bins=20)\n",
    "plt.title('Residuals Histogram (Baseline)')\n",
    "plt.xlabel('Residual')\n",
    "plt.ylabel('Count')\n",
    "plt.show()\n",
    "\n",
    "plt.figure()\n",
    "st.probplot(resid, dist='norm', plot=plt)\n",
    "plt.title('QQ Plot of Residuals (Baseline)')\n",
    "plt.show()\n",
    "\n",
    "plt.figure()\n",
    "plt.scatter(X_test['mkt_excess'], resid)\n",
    "plt.axhline(0, linestyle='--')\n",
    "plt.title('Residuals vs mkt_excess (Baseline)')\n",
    "plt.xlabel('mkt_excess')\n",
    "plt.ylabel('Residuals')\n",
    "plt.show()"
   ]
  },
  {
   "cell_type": "code",
   "execution_count": null,
   "id": "967c8647-7c54-4942-ae74-bb03967025c2",
   "metadata": {},
   "outputs": [],
   "source": []
  }
 ],
 "metadata": {
  "kernelspec": {
   "display_name": "Python 3 (ipykernel)",
   "language": "python",
   "name": "python3"
  },
  "language_info": {
   "codemirror_mode": {
    "name": "ipython",
    "version": 3
   },
   "file_extension": ".py",
   "mimetype": "text/x-python",
   "name": "python",
   "nbconvert_exporter": "python",
   "pygments_lexer": "ipython3",
   "version": "3.10.18"
  }
 },
 "nbformat": 4,
 "nbformat_minor": 5
}
