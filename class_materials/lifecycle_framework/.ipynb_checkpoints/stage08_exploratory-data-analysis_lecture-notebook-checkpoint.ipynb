{
  "cells": [
    {
      "cell_type": "markdown",
      "metadata": {},
      "source": [
        "# Stage 08 — Exploratory Data Analysis (EDA)\n",
        "\n",
        "Goals:\n",
        "- Summarize & visualize distributions and relationships\n",
        "- Interpret trends/anomalies to inform modeling\n",
        "- Document insights and assumptions clearly"
      ]
    },
    {
      "cell_type": "markdown",
      "metadata": {},
      "source": [
        "## 0. Setup & Imports"
      ]
    },
    {
      "cell_type": "code",
      "metadata": {},
      "source": [
        "import numpy as np\n",
        "import pandas as pd\n",
        "import matplotlib.pyplot as plt\n",
        "import seaborn as sns\n",
        "from scipy.stats import skew, kurtosis\n",
        "\n",
        "sns.set(context='talk', style='whitegrid')\n",
        "np.random.seed(8)\n",
        "pd.set_option('display.max_columns', 100)\n",
        "\n",
        "# Helper display\n",
        "def title(msg):\n",
        "    print('\\n' + '='*len(msg))\n",
        "    print(msg)\n",
        "    print('='*len(msg))"
      ]
    },
    {
      "cell_type": "markdown",
      "metadata": {},
      "source": [
        "## 1. Synthetic Data Generator (Reproducible)\n",
        "No external CSVs required. This mimics a small financial-behavior dataset with both numeric and categorical variables and a time component."
      ]
    },
    {
      "cell_type": "code",
      "metadata": {},
      "source": [
        "n = 180  # ~6 months of daily data\n",
        "dates = pd.date_range('2021-01-01', periods=n, freq='D')\n",
        "\n",
        "regions = np.random.choice(['North','South','East','West'], size=n, p=[0.25,0.25,0.30,0.20])\n",
        "age = np.random.normal(40, 8, size=n).clip(22, 70)\n",
        "income = np.random.lognormal(mean=10.6, sigma=0.3, size=n)  # lognormal skew\n",
        "transactions = np.random.poisson(lam=3, size=n) + (np.random.rand(n) < 0.05).astype(int)*8  # rare spikes\n",
        "base_spend = (income * (0.0015 + 0.00002*(age-40)) + transactions*20)\n",
        "noise = np.random.normal(0, 50, size=n)\n",
        "spend = (base_spend + noise).clip(0)\n",
        "\n",
        "# Assemble\n",
        "df = pd.DataFrame({\n",
        "    'date': dates,\n",
        "    'region': regions,\n",
        "    'age': age.round(1),\n",
        "    'income': income.round(2),\n",
        "    'transactions': transactions,\n",
        "    'spend': spend.round(2)\n",
        "})\n",
        "\n",
        "# Inject missingness and outliers\n",
        "df.loc[np.random.choice(df.index, size=6, replace=False), 'income'] = np.nan\n",
        "df.loc[np.random.choice(df.index, size=4, replace=False), 'spend'] = np.nan\n",
        "df.loc[np.random.choice(df.index, size=2, replace=False), 'transactions'] = df['transactions'].max() + 15  # extreme outliers\n",
        "\n",
        "df.head()"
      ]
    },
    {
      "cell_type": "markdown",
      "metadata": {},
      "source": [
        "## 2. First Look: Structure & Sanity Checks"
      ]
    },
    {
      "cell_type": "code",
      "metadata": {},
      "source": [
        "title('df.info()')\n",
        "df.info()\n",
        "title('Head & Tail')\n",
        "display(df.head(3))\n",
        "display(df.tail(3))\n",
        "title('Missingness counts')\n",
        "df.isna().sum()"
      ]
    },
    {
      "cell_type": "code",
      "metadata": {},
      "source": [
        "title('Descriptive statistics')\n",
        "desc = df[['age','income','transactions','spend']].describe().T\n",
        "desc['skew'] = [skew(df[c].dropna()) for c in desc.index]\n",
        "desc['kurtosis'] = [kurtosis(df[c].dropna()) for c in desc.index]\n",
        "desc"
      ]
    },
    {
      "cell_type": "markdown",
      "metadata": {},
      "source": [
        "### Notes\n",
        "- `income` is lognormal (positively skewed): might consider log-transform later.\n",
        "- `transactions` presents rare spikes: inspect outliers vs data quality.\n",
        "- Missing values exist in `income` and `spend`: decide imputation strategy before modeling."
      ]
    },
    {
      "cell_type": "markdown",
      "metadata": {},
      "source": [
        "## 3. Univariate Visuals: Distributions & Outliers"
      ]
    },
    {
      "cell_type": "code",
      "metadata": {},
      "source": [
        "fig, axes = plt.subplots(2,2, figsize=(12,8))\n",
        "sns.histplot(df['income'], kde=True, ax=axes[0,0])\n",
        "axes[0,0].set_title('Income Distribution')\n",
        "sns.boxplot(x=df['transactions'], ax=axes[0,1])\n",
        "axes[0,1].set_title('Transactions (Outliers)')\n",
        "sns.histplot(df['spend'], kde=True, ax=axes[1,0])\n",
        "axes[1,0].set_title('Spend Distribution')\n",
        "sns.countplot(x=df['region'], ax=axes[1,1])\n",
        "axes[1,1].set_title('Region Frequency')\n",
        "plt.tight_layout()\n",
        "plt.show()"
      ]
    },
    {
      "cell_type": "markdown",
      "metadata": {},
      "source": [
        "## 4. Bivariate Visuals: Relationships"
      ]
    },
    {
      "cell_type": "code",
      "metadata": {},
      "source": [
        "fig, axes = plt.subplots(1,2, figsize=(12,4))\n",
        "sns.scatterplot(data=df, x='income', y='spend', hue='region', ax=axes[0])\n",
        "axes[0].set_title('Income vs Spend')\n",
        "sns.scatterplot(data=df, x='age', y='spend', ax=axes[1])\n",
        "axes[1].set_title('Age vs Spend')\n",
        "plt.tight_layout()\n",
        "plt.show()"
      ]
    },
    {
      "cell_type": "markdown",
      "metadata": {},
      "source": [
        "## 5. Time Series Glance"
      ]
    },
    {
      "cell_type": "code",
      "metadata": {},
      "source": [
        "daily = df.set_index('date')[['transactions','spend']].resample('W').sum()\n",
        "daily.plot(subplots=True, figsize=(10,6), title=['Weekly Transactions','Weekly Spend'])\n",
        "plt.tight_layout()\n",
        "plt.show()"
      ]
    },
    {
      "cell_type": "markdown",
      "metadata": {},
      "source": [
        "## 6. Correlation Matrix (Optional but Recommended)"
      ]
    },
    {
      "cell_type": "code",
      "metadata": {},
      "source": [
        "corr = df[['age','income','transactions','spend']].corr(numeric_only=True)\n",
        "plt.figure(figsize=(6,4))\n",
        "sns.heatmap(corr, annot=True, fmt='.2f', cmap='vlag', vmin=-1, vmax=1)\n",
        "plt.title('Correlation Matrix')\n",
        "plt.show()\n",
        "corr"
      ]
    },
    {
      "cell_type": "markdown",
      "metadata": {},
      "source": [
        "## 7. Reusable Helper: `eda_summary(df)`"
      ]
    },
    {
      "cell_type": "code",
      "metadata": {},
      "source": [
        "def eda_summary(df: pd.DataFrame, numeric_cols=None):\n",
        "    \"\"\"Return a dict with quick profiling stats and basic missingness.\n",
        "    numeric_cols: optional list to limit numeric profiling.\n",
        "    \"\"\"\n",
        "    if numeric_cols is None:\n",
        "        numeric_cols = df.select_dtypes(include=[np.number]).columns.tolist()\n",
        "    out = {}\n",
        "    out['shape'] = df.shape\n",
        "    out['dtypes'] = df.dtypes.to_dict()\n",
        "    out['missing'] = df.isna().sum().to_dict()\n",
        "    profile = df[numeric_cols].describe().T\n",
        "    profile['skew'] = [skew(df[c].dropna()) for c in profile.index]\n",
        "    profile['kurtosis'] = [kurtosis(df[c].dropna()) for c in profile.index]\n",
        "    out['numeric_profile'] = profile\n",
        "    return out\n",
        "\n",
        "summary = eda_summary(df)\n",
        "summary['shape'], list(summary['dtypes'].items())[:3]"
      ]
    },
    {
      "cell_type": "markdown",
      "metadata": {},
      "source": [
        "### 8. “So What?”: Insights & Assumptions\n",
        "- **Skew**: `income` and `spend` are right-skewed → consider log transforms for linear models.\n",
        "- **Outliers**: transactions show spikes → verify data quality; maybe winsorize.\n",
        "- **Relationships**: positive `income–spend`; check nonlinearity (might motivate interaction terms later).\n",
        "- **Missingness**: imputation strategy required before modeling.\n",
        "\n",
        "**Next step**: translate these into feature hypotheses (ratios, lags, logs) in the Feature Engineering stage."
      ]
    },
    {
      "cell_type": "markdown",
      "metadata": {},
      "source": [
        "## 9. (Optional) Save Notebook Naming Pattern\n",
        "Use: `notebooks/eda_<team>.ipynb`. (Skip actual disk I/O in this demo.)"
      ]
    }
  ],
  "metadata": {
    "kernelspec": {
      "display_name": "Python 3",
      "language": "python",
      "name": "python3"
    },
    "language_info": {
      "name": "python",
      "version": "3.10"
    }
  },
  "nbformat": 4,
  "nbformat_minor": 5
}