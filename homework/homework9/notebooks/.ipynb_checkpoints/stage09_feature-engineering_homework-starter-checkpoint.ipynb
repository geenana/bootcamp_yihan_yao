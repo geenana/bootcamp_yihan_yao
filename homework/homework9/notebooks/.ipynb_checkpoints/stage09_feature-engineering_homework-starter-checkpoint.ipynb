{
 "cells": [
  {
   "cell_type": "markdown",
   "id": "322be933",
   "metadata": {},
   "source": [
    "# Stage 09 — Homework Starter Notebook\n",
    "\n",
    "In the lecture, we learned how to create engineered features. Now it’s your turn to apply those ideas to your own project data."
   ]
  },
  {
   "cell_type": "code",
   "execution_count": 3,
   "id": "4e641c52",
   "metadata": {},
   "outputs": [
    {
     "data": {
      "text/html": [
       "<div>\n",
       "<style scoped>\n",
       "    .dataframe tbody tr th:only-of-type {\n",
       "        vertical-align: middle;\n",
       "    }\n",
       "\n",
       "    .dataframe tbody tr th {\n",
       "        vertical-align: top;\n",
       "    }\n",
       "\n",
       "    .dataframe thead th {\n",
       "        text-align: right;\n",
       "    }\n",
       "</style>\n",
       "<table border=\"1\" class=\"dataframe\">\n",
       "  <thead>\n",
       "    <tr style=\"text-align: right;\">\n",
       "      <th></th>\n",
       "      <th>date</th>\n",
       "      <th>spx_close</th>\n",
       "      <th>vix</th>\n",
       "      <th>dgs10</th>\n",
       "      <th>fedfunds</th>\n",
       "      <th>cpi</th>\n",
       "      <th>unrate</th>\n",
       "    </tr>\n",
       "  </thead>\n",
       "  <tbody>\n",
       "    <tr>\n",
       "      <th>0</th>\n",
       "      <td>2020-08-24</td>\n",
       "      <td>0.060143</td>\n",
       "      <td>0.259699</td>\n",
       "      <td>0.65</td>\n",
       "      <td>4.33</td>\n",
       "      <td>301.476</td>\n",
       "      <td>4.0</td>\n",
       "    </tr>\n",
       "    <tr>\n",
       "      <th>1</th>\n",
       "      <td>2020-08-25</td>\n",
       "      <td>0.063962</td>\n",
       "      <td>0.251297</td>\n",
       "      <td>0.69</td>\n",
       "      <td>4.33</td>\n",
       "      <td>301.476</td>\n",
       "      <td>4.0</td>\n",
       "    </tr>\n",
       "    <tr>\n",
       "      <th>2</th>\n",
       "      <td>2020-08-26</td>\n",
       "      <td>0.074826</td>\n",
       "      <td>0.281937</td>\n",
       "      <td>0.69</td>\n",
       "      <td>4.33</td>\n",
       "      <td>301.476</td>\n",
       "      <td>4.0</td>\n",
       "    </tr>\n",
       "    <tr>\n",
       "      <th>3</th>\n",
       "      <td>2020-08-27</td>\n",
       "      <td>0.076627</td>\n",
       "      <td>0.311589</td>\n",
       "      <td>0.74</td>\n",
       "      <td>4.33</td>\n",
       "      <td>301.476</td>\n",
       "      <td>4.0</td>\n",
       "    </tr>\n",
       "    <tr>\n",
       "      <th>4</th>\n",
       "      <td>2020-08-28</td>\n",
       "      <td>0.083887</td>\n",
       "      <td>0.274277</td>\n",
       "      <td>0.74</td>\n",
       "      <td>4.33</td>\n",
       "      <td>301.476</td>\n",
       "      <td>4.0</td>\n",
       "    </tr>\n",
       "  </tbody>\n",
       "</table>\n",
       "</div>"
      ],
      "text/plain": [
       "         date  spx_close       vix  dgs10  fedfunds      cpi  unrate\n",
       "0  2020-08-24   0.060143  0.259699   0.65      4.33  301.476     4.0\n",
       "1  2020-08-25   0.063962  0.251297   0.69      4.33  301.476     4.0\n",
       "2  2020-08-26   0.074826  0.281937   0.69      4.33  301.476     4.0\n",
       "3  2020-08-27   0.076627  0.311589   0.74      4.33  301.476     4.0\n",
       "4  2020-08-28   0.083887  0.274277   0.74      4.33  301.476     4.0"
      ]
     },
     "execution_count": 3,
     "metadata": {},
     "output_type": "execute_result"
    }
   ],
   "source": [
    "import pandas as pd\n",
    "import numpy as np\n",
    "import sys\n",
    "\n",
    "# Example synthetic data (replace with your project dataset)\n",
    "# np.random.seed(0)\n",
    "# n = 100\n",
    "# df = pd.DataFrame({\n",
    "#     'income': np.random.normal(60000, 15000, n).astype(int),\n",
    "#     'monthly_spend': np.random.normal(2000, 600, n).astype(int),\n",
    "#     'credit_score': np.random.normal(680, 50, n).astype(int)\n",
    "# })\n",
    "# df.head()\n",
    "\n",
    "df = pd.read_csv(\"../data/raw/preprocessed_dataset.csv\")\n",
    "df.head()"
   ]
  },
  {
   "cell_type": "markdown",
   "id": "1241b5b5",
   "metadata": {},
   "source": [
    "## Implement at least 2 engineered features here"
   ]
  },
  {
   "cell_type": "code",
   "execution_count": 4,
   "id": "4a14633e-472e-47e8-892d-c48e705a0d1e",
   "metadata": {},
   "outputs": [],
   "source": [
    "# Example template:\n",
    "# df['spend_income_ratio'] = df['monthly_spend'] / df['income'] \n",
    "# Example: df['rolling_spend_mean'] = df['monthly_spend'].rolling(3).mean()\n",
    "# Add rationale in markdown below"
   ]
  },
  {
   "cell_type": "code",
   "execution_count": 5,
   "id": "0a1a6ee2-3b5d-49ad-9ad4-0f4ab0e4aab4",
   "metadata": {},
   "outputs": [
    {
     "name": "stderr",
     "output_type": "stream",
     "text": [
      "/opt/miniconda3/envs/bootcamp_env/lib/python3.10/site-packages/pandas/core/arraylike.py:399: RuntimeWarning: divide by zero encountered in log\n",
      "  result = getattr(ufunc, method)(*inputs, **kwargs)\n"
     ]
    }
   ],
   "source": [
    "# Daily log returns of S&P 500\n",
    "df[\"spx_ret\"] = np.log(df[\"spx_close\"] / df[\"spx_close\"].shift(1))\n",
    "\n",
    "# 21-day realized volatility (annualized, in %)\n",
    "# 252 trading days per year; multiply rolling std by sqrt(252)*100 to get percentage volatility \n",
    "roll = 21\n",
    "df[\"rv_21d_pct\"] = df[\"spx_ret\"].rolling(roll).std() * np.sqrt(252) * 100 "
   ]
  },
  {
   "cell_type": "markdown",
   "id": "6b72f2ee-2649-429f-a4b9-a187f44f367f",
   "metadata": {},
   "source": [
    "### Rationale for Feature 1 \n",
    "- Rolling standard deviation of daily log returns over ~1 trading month, annualized and expressed in percent.\n",
    "- EDA showed right-skewed SPX Close with occasional spikes. Prices are non-stationary and on a large scale; transforming to log returns makes the series closer to stationary and reduces scale effects.\n",
    "- A rolling 21-day window (approximately 1 trading month) captures volatility while smoothing transients. It helps to capture realized (historical) volatility regime. Near-term volatility tends to cluster; yesterday's turbulence is informative about tomorrow's risk. "
   ]
  },
  {
   "cell_type": "code",
   "execution_count": 6,
   "id": "c9fe5d8e-2883-4762-be36-f1ffd8de9e55",
   "metadata": {},
   "outputs": [],
   "source": [
    "# Variance Risk Premium proxy (VRP ratio): VIX / RealizedVol - 1\n",
    "# VIX is already in percent; align units with rv_21d_pct (also percent)\n",
    "# Guard against division by zero/NaN \n",
    "df[\"vrp_ratio\"] = np.where(df[\"rv_21d_pct\"] > 0, df[\"vix\"] / df[\"rv_21d_pct\"] - 1.0, np.nan) "
   ]
  },
  {
   "cell_type": "markdown",
   "id": "062cb790-2f61-490e-957a-20410a5b810b",
   "metadata": {},
   "source": [
    "### Rationale for Feature 2\n",
    "- Ratio of implied volatility (VIX) to realized volatility minus 1. \n",
    "- EDA showed that when SPX falls, VIX rises and there are right-tail spikes in VIX. Comparing implied VIX to realized volatility (rv_21d_pct) yields a risk-premium signal that often anticipates near-term volatility regimes. This reflects how option markets price future risk vs. what was actually realized, making it highly relevant for forecasting."
   ]
  },
  {
   "cell_type": "code",
   "execution_count": 7,
   "id": "832c6287-e3d8-43ba-b2a2-d873cc77f819",
   "metadata": {},
   "outputs": [],
   "source": [
    "# 10Y rate shock \n",
    "df[\"rate_shock_5d_bps\"] = (df[\"dgs10\"] - df[\"dgs10\"].shift(5)) * 100 # % -> bps"
   ]
  },
  {
   "cell_type": "markdown",
   "id": "312ada46-462c-4947-8907-6bfa1cfdcc57",
   "metadata": {},
   "source": [
    "### Rationale for Feature 3\n",
    "- 5-business-day change in the 10-year yield, expressed in basis points\n",
    "- Sudden rate moves capture macro shocks (policy changes, inflation suprises) that often spill into equity volatility. "
   ]
  },
  {
   "cell_type": "code",
   "execution_count": 8,
   "id": "0c9b77b9",
   "metadata": {},
   "outputs": [
    {
     "name": "stdout",
     "output_type": "stream",
     "text": [
      "         date  spx_close       vix  dgs10  fedfunds      cpi  unrate  \\\n",
      "0  2020-10-23   0.070698  0.387695   0.85      0.09  260.319     6.9   \n",
      "1  2020-10-26   0.050764  0.509019   0.81      0.09  260.319     6.9   \n",
      "2  2020-10-27   0.047580  0.531011   0.79      0.09  260.319     6.9   \n",
      "\n",
      "    spx_ret  rv_21d_pct  vrp_ratio  rate_shock_5d_bps  \n",
      "0  0.053491  721.180880  -0.999462                9.0  \n",
      "1 -0.331233  395.760560  -0.998714                3.0  \n",
      "2 -0.064779  337.028035  -0.998424               -2.0  \n",
      "\n",
      "Columns: ['date', 'spx_close', 'vix', 'dgs10', 'fedfunds', 'cpi', 'unrate', 'spx_ret', 'rv_21d_pct', 'vrp_ratio', 'rate_shock_5d_bps']\n"
     ]
    }
   ],
   "source": [
    "# Drop leading rows with NaNs introduced by rolling/changes\n",
    "df = df.dropna(subset=[\"spx_ret\", \"rv_21d_pct\", \"vrp_ratio\", \"rate_shock_5d_bps\"]).reset_index(drop=True)\n",
    "\n",
    "# Save datasets\n",
    "df.to_csv(\"../data/processed/engineered_features.csv\", index=False)\n",
    "df.to_parquet(\"../data/processed/engineered_features.parquet\", index=False)\n",
    "\n",
    "# Quick check\n",
    "print(df.head(3))\n",
    "print(\"\\nColumns:\", list(df.columns))"
   ]
  },
  {
   "cell_type": "code",
   "execution_count": null,
   "id": "571dcc5b-6632-480b-be7d-07447a267ce8",
   "metadata": {},
   "outputs": [],
   "source": []
  }
 ],
 "metadata": {
  "kernelspec": {
   "display_name": "Python 3 (ipykernel)",
   "language": "python",
   "name": "python3"
  },
  "language_info": {
   "codemirror_mode": {
    "name": "ipython",
    "version": 3
   },
   "file_extension": ".py",
   "mimetype": "text/x-python",
   "name": "python",
   "nbconvert_exporter": "python",
   "pygments_lexer": "ipython3",
   "version": "3.10.18"
  }
 },
 "nbformat": 4,
 "nbformat_minor": 5
}
