{
 "cells": [
  {
   "cell_type": "markdown",
   "metadata": {},
   "source": [
    "# Setup: Generate Sample Dataset\n",
    "\n",
    "This cell creates the required folder structure (`data/raw/` and `data/processed/`) relative to the notebook, and generates the sample CSV dataset with missing values. \n",
    "This ensures the dataset is ready for cleaning functions and saves it to `data/raw/sample_data.csv`."
   ]
  },
  {
   "cell_type": "code",
   "execution_count": 8,
   "metadata": {},
   "outputs": [
    {
     "name": "stdout",
     "output_type": "stream",
     "text": [
      "Sample dataset created and saved to data/raw/sample_data.csv\n"
     ]
    }
   ],
   "source": [
    "import os\n",
    "import pandas as pd\n",
    "import numpy as np\n",
    "\n",
    "# Define folder paths relative to this notebook\n",
    "raw_dir = 'data/raw'\n",
    "processed_dir = 'data/processed'\n",
    "\n",
    "# Create folders if they don't exist\n",
    "os.makedirs(raw_dir, exist_ok=True)\n",
    "os.makedirs(processed_dir, exist_ok=True)\n",
    "\n",
    "# Define the sample data\n",
    "data = {\n",
    "    'age': [34, 45, 29, 50, 38, np.nan, 41],\n",
    "    'income': [55000, np.nan, 42000, 58000, np.nan, np.nan, 49000],\n",
    "    'score': [0.82, 0.91, np.nan, 0.76, 0.88, 0.65, 0.79],\n",
    "    'zipcode': ['90210', '10001', '60614', '94103', '73301', '12345', '94105'],\n",
    "    'city': ['Beverly', 'New York', 'Chicago', 'SF', 'Austin', 'Unknown', 'San Francisco'],\n",
    "    'extra_data': [np.nan, 42, np.nan, np.nan, np.nan, 5, np.nan]\n",
    "}\n",
    "\n",
    "# Create DataFrame\n",
    "df = pd.DataFrame(data)\n",
    "\n",
    "# Save to CSV in raw data folder\n",
    "csv_path = os.path.join(raw_dir, 'sample_data.csv')\n",
    "if not os.path.exists(csv_path):\n",
    "    df.to_csv(csv_path, index=False)\n",
    "    print(f'Sample dataset created and saved to {csv_path}')\n",
    "else:\n",
    "    print(f'File already exists at {csv_path}. Skipping CSV creation to avoid overwrite.')\n"
   ]
  },
  {
   "cell_type": "markdown",
   "metadata": {},
   "source": [
    "# Homework Starter — Stage 6: Data Preprocessing\n",
    "Use this notebook to apply your cleaning functions and save processed data."
   ]
  },
  {
   "cell_type": "code",
   "execution_count": 9,
   "metadata": {},
   "outputs": [],
   "source": [
    "import pandas as pd\n",
    "from src import cleaning"
   ]
  },
  {
   "cell_type": "markdown",
   "metadata": {},
   "source": [
    "## Load Raw Dataset"
   ]
  },
  {
   "cell_type": "code",
   "execution_count": 10,
   "metadata": {},
   "outputs": [
    {
     "data": {
      "text/html": [
       "<div>\n",
       "<style scoped>\n",
       "    .dataframe tbody tr th:only-of-type {\n",
       "        vertical-align: middle;\n",
       "    }\n",
       "\n",
       "    .dataframe tbody tr th {\n",
       "        vertical-align: top;\n",
       "    }\n",
       "\n",
       "    .dataframe thead th {\n",
       "        text-align: right;\n",
       "    }\n",
       "</style>\n",
       "<table border=\"1\" class=\"dataframe\">\n",
       "  <thead>\n",
       "    <tr style=\"text-align: right;\">\n",
       "      <th></th>\n",
       "      <th>age</th>\n",
       "      <th>income</th>\n",
       "      <th>score</th>\n",
       "      <th>zipcode</th>\n",
       "      <th>city</th>\n",
       "      <th>extra_data</th>\n",
       "    </tr>\n",
       "  </thead>\n",
       "  <tbody>\n",
       "    <tr>\n",
       "      <th>0</th>\n",
       "      <td>34.0</td>\n",
       "      <td>55000.0</td>\n",
       "      <td>0.82</td>\n",
       "      <td>90210</td>\n",
       "      <td>Beverly</td>\n",
       "      <td>NaN</td>\n",
       "    </tr>\n",
       "    <tr>\n",
       "      <th>1</th>\n",
       "      <td>45.0</td>\n",
       "      <td>NaN</td>\n",
       "      <td>0.91</td>\n",
       "      <td>10001</td>\n",
       "      <td>New York</td>\n",
       "      <td>42.0</td>\n",
       "    </tr>\n",
       "    <tr>\n",
       "      <th>2</th>\n",
       "      <td>29.0</td>\n",
       "      <td>42000.0</td>\n",
       "      <td>NaN</td>\n",
       "      <td>60614</td>\n",
       "      <td>Chicago</td>\n",
       "      <td>NaN</td>\n",
       "    </tr>\n",
       "    <tr>\n",
       "      <th>3</th>\n",
       "      <td>50.0</td>\n",
       "      <td>58000.0</td>\n",
       "      <td>0.76</td>\n",
       "      <td>94103</td>\n",
       "      <td>SF</td>\n",
       "      <td>NaN</td>\n",
       "    </tr>\n",
       "    <tr>\n",
       "      <th>4</th>\n",
       "      <td>38.0</td>\n",
       "      <td>NaN</td>\n",
       "      <td>0.88</td>\n",
       "      <td>73301</td>\n",
       "      <td>Austin</td>\n",
       "      <td>NaN</td>\n",
       "    </tr>\n",
       "  </tbody>\n",
       "</table>\n",
       "</div>"
      ],
      "text/plain": [
       "    age   income  score  zipcode      city  extra_data\n",
       "0  34.0  55000.0   0.82    90210   Beverly         NaN\n",
       "1  45.0      NaN   0.91    10001  New York        42.0\n",
       "2  29.0  42000.0    NaN    60614   Chicago         NaN\n",
       "3  50.0  58000.0   0.76    94103        SF         NaN\n",
       "4  38.0      NaN   0.88    73301    Austin         NaN"
      ]
     },
     "execution_count": 10,
     "metadata": {},
     "output_type": "execute_result"
    }
   ],
   "source": [
    "df = pd.read_csv('data/raw/sample_data.csv')\n",
    "df.head()"
   ]
  },
  {
   "cell_type": "markdown",
   "metadata": {},
   "source": [
    "## Apply Cleaning Functions"
   ]
  },
  {
   "cell_type": "code",
   "execution_count": 11,
   "metadata": {},
   "outputs": [],
   "source": [
    "# Example:\n",
    "# df = cleaning.fill_missing_median(df, ['col1','col2'])\n",
    "# df = cleaning.drop_missing(df, threshold=0.5)\n",
    "# df = cleaning.normalize_data(df, ['col1','col2'])\n",
    "\n",
    "df = cleaning.fill_missing_median(df, ['income','score'])\n",
    "df = cleaning.drop_missing(df, threshold=0.5) \n",
    "df = cleaning.normalize_data(df, ['score'], method='minmax')"
   ]
  },
  {
   "cell_type": "markdown",
   "metadata": {},
   "source": [
    "## Save Cleaned Dataset"
   ]
  },
  {
   "cell_type": "code",
   "execution_count": 12,
   "metadata": {},
   "outputs": [],
   "source": [
    "df.to_csv('data/processed/sample_data_cleaned.csv', index=False)"
   ]
  },
  {
   "cell_type": "code",
   "execution_count": 13,
   "metadata": {},
   "outputs": [
    {
     "name": "stdout",
     "output_type": "stream",
     "text": [
      "<class 'pandas.core.frame.DataFrame'>\n",
      "RangeIndex: 7 entries, 0 to 6\n",
      "Data columns (total 6 columns):\n",
      " #   Column      Non-Null Count  Dtype  \n",
      "---  ------      --------------  -----  \n",
      " 0   age         6 non-null      float64\n",
      " 1   income      4 non-null      float64\n",
      " 2   score       6 non-null      float64\n",
      " 3   zipcode     7 non-null      int64  \n",
      " 4   city        7 non-null      object \n",
      " 5   extra_data  2 non-null      float64\n",
      "dtypes: float64(4), int64(1), object(1)\n",
      "memory usage: 464.0+ bytes\n",
      "<class 'pandas.core.frame.DataFrame'>\n",
      "RangeIndex: 7 entries, 0 to 6\n",
      "Data columns (total 6 columns):\n",
      " #   Column      Non-Null Count  Dtype  \n",
      "---  ------      --------------  -----  \n",
      " 0   age         6 non-null      float64\n",
      " 1   income      7 non-null      float64\n",
      " 2   score       7 non-null      float64\n",
      " 3   zipcode     7 non-null      int64  \n",
      " 4   city        7 non-null      object \n",
      " 5   extra_data  2 non-null      float64\n",
      "dtypes: float64(4), int64(1), object(1)\n",
      "memory usage: 464.0+ bytes\n"
     ]
    },
    {
     "data": {
      "text/html": [
       "<div>\n",
       "<style scoped>\n",
       "    .dataframe tbody tr th:only-of-type {\n",
       "        vertical-align: middle;\n",
       "    }\n",
       "\n",
       "    .dataframe tbody tr th {\n",
       "        vertical-align: top;\n",
       "    }\n",
       "\n",
       "    .dataframe thead th {\n",
       "        text-align: right;\n",
       "    }\n",
       "</style>\n",
       "<table border=\"1\" class=\"dataframe\">\n",
       "  <thead>\n",
       "    <tr style=\"text-align: right;\">\n",
       "      <th></th>\n",
       "      <th>age</th>\n",
       "      <th>income</th>\n",
       "      <th>score</th>\n",
       "      <th>zipcode</th>\n",
       "      <th>city</th>\n",
       "      <th>extra_data</th>\n",
       "    </tr>\n",
       "  </thead>\n",
       "  <tbody>\n",
       "    <tr>\n",
       "      <th>0</th>\n",
       "      <td>34.0</td>\n",
       "      <td>55000.0</td>\n",
       "      <td>0.653846</td>\n",
       "      <td>90210</td>\n",
       "      <td>Beverly</td>\n",
       "      <td>NaN</td>\n",
       "    </tr>\n",
       "    <tr>\n",
       "      <th>1</th>\n",
       "      <td>45.0</td>\n",
       "      <td>52000.0</td>\n",
       "      <td>1.000000</td>\n",
       "      <td>10001</td>\n",
       "      <td>New York</td>\n",
       "      <td>42.0</td>\n",
       "    </tr>\n",
       "    <tr>\n",
       "      <th>2</th>\n",
       "      <td>29.0</td>\n",
       "      <td>42000.0</td>\n",
       "      <td>0.596154</td>\n",
       "      <td>60614</td>\n",
       "      <td>Chicago</td>\n",
       "      <td>NaN</td>\n",
       "    </tr>\n",
       "    <tr>\n",
       "      <th>3</th>\n",
       "      <td>50.0</td>\n",
       "      <td>58000.0</td>\n",
       "      <td>0.423077</td>\n",
       "      <td>94103</td>\n",
       "      <td>SF</td>\n",
       "      <td>NaN</td>\n",
       "    </tr>\n",
       "    <tr>\n",
       "      <th>4</th>\n",
       "      <td>38.0</td>\n",
       "      <td>52000.0</td>\n",
       "      <td>0.884615</td>\n",
       "      <td>73301</td>\n",
       "      <td>Austin</td>\n",
       "      <td>NaN</td>\n",
       "    </tr>\n",
       "  </tbody>\n",
       "</table>\n",
       "</div>"
      ],
      "text/plain": [
       "    age   income     score  zipcode      city  extra_data\n",
       "0  34.0  55000.0  0.653846    90210   Beverly         NaN\n",
       "1  45.0  52000.0  1.000000    10001  New York        42.0\n",
       "2  29.0  42000.0  0.596154    60614   Chicago         NaN\n",
       "3  50.0  58000.0  0.423077    94103        SF         NaN\n",
       "4  38.0  52000.0  0.884615    73301    Austin         NaN"
      ]
     },
     "execution_count": 13,
     "metadata": {},
     "output_type": "execute_result"
    }
   ],
   "source": [
    "# Compare original vs cleaned data\n",
    "df = pd.read_csv('data/raw/sample_data.csv')\n",
    "df_cleaned = pd.read_csv('data/processed/sample_data_cleaned.csv')\n",
    "\n",
    "df.info()\n",
    "df_cleaned.head()\n",
    "df_cleaned.info()\n",
    "df_cleaned.head()"
   ]
  },
  {
   "cell_type": "markdown",
   "metadata": {},
   "source": [
    "## Assumptions\n",
    "- Missingness: Missing numeric values can be imputed with median without introducing significant bias.\n",
    "- Row Removal: Dropping rows with more than 50% missing data does not significantly distort the dataset.\n",
    "- Scaling: Normalization does not change the underlying relationships between variables but ensures features are comparable for analysis or ML tasks.\n",
    "- Column Selection: Only numeric columns are targeted for median imputation and scaling."
   ]
  },
  {
   "cell_type": "code",
   "execution_count": null,
   "metadata": {},
   "outputs": [],
   "source": []
  }
 ],
 "metadata": {
  "kernelspec": {
   "display_name": "Python 3 (ipykernel)",
   "language": "python",
   "name": "python3"
  },
  "language_info": {
   "codemirror_mode": {
    "name": "ipython",
    "version": 3
   },
   "file_extension": ".py",
   "mimetype": "text/x-python",
   "name": "python",
   "nbconvert_exporter": "python",
   "pygments_lexer": "ipython3",
   "version": "3.10.18"
  }
 },
 "nbformat": 4,
 "nbformat_minor": 4
}
