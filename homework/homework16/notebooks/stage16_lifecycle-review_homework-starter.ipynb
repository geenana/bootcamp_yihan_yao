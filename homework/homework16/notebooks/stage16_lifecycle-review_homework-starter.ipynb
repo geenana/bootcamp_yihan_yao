{
 "cells": [
  {
   "cell_type": "markdown",
   "metadata": {},
   "source": [
    "# Stage 16 Homework Starter\n",
    "\n",
    "This notebook is a starting point for polishing your final repo and lifecycle mapping."
   ]
  },
  {
   "cell_type": "markdown",
   "metadata": {},
   "source": [
    "## Checklist Template\n",
    " - Add checklist elements, as in the examples below, to make sure you cover everything you would like to accomplish\n",
    "- Update this checklist as you finalize your repo."
   ]
  },
  {
   "cell_type": "code",
   "execution_count": 1,
   "metadata": {},
   "outputs": [
    {
     "data": {
      "text/plain": [
       "{'repo_clean': True,\n",
       " 'repo_complete': True,\n",
       " 'readme_complete': True,\n",
       " 'lifecycle_map': True,\n",
       " 'summary_doc': True,\n",
       " 'framework_guide_table': True}"
      ]
     },
     "execution_count": 1,
     "metadata": {},
     "output_type": "execute_result"
    }
   ],
   "source": [
    "checklist = {\n",
    "    \"repo_clean\": True,\n",
    "    \"repo_complete\": True,\n",
    "    \"readme_complete\": True,\n",
    "    \"lifecycle_map\": True,\n",
    "    \"summary_doc\": True, \n",
    "    \"framework_guide_table\": True\n",
    "}\n",
    "checklist"
   ]
  },
  {
   "cell_type": "markdown",
   "metadata": {},
   "source": [
    "## Reflection Prompts\n",
    "- What stage of the lifecycle was hardest for you, and why?\n",
    "- Which part of your repo is most reusable in a future project?\n",
    "- If a teammate had to pick up your repo tomorrow, what would help them most?\n",
    "\n",
    "**1. Hardest Stage:**  \n",
    "The most challenging stage was **Feature Engineering and Modeling**. Handling volatility regime shifts, aligning macroeconomic lags with daily market data, and preventing overfitting required careful iterative testing. Choosing appropriate windows for rolling metrics and validating engineered features demanded both domain knowledge and statistical intuition.\n",
    "\n",
    "**2. Most Reusable Repo Components:**  \n",
    "- **Preprocessing & Feature Engineering Functions**: Scripts in `/src/` for calculating `rv_21d_pct`, `vrp_ratio`, and `rate_shock_5d_bps`.  \n",
    "- **Model Training & Evaluation Modules**: Functions for regression modeling and backtesting are modular and can be applied to other financial time series.  \n",
    "- **Data Ingestion Utilities**: Functions for fetching Yahoo Finance and FRED data can be reused with minor modifications.  \n",
    "- **Dashboard & API Templates**: Streamlit and Flask code can be adapted for other predictive analytics projects.  \n",
    "\n",
    "**3. Handoff to a Teammate:**  \n",
    "To help a teammate pick up the repo quickly:  \n",
    "- **Clear folder structure** (`/data/`, `/src/`, `/notebooks/`, `/docs/`)  \n",
    "- **README.md** with instructions for running notebooks, training models, and launching dashboards  \n",
    "- **Commented, modular code** in `/src/` so tasks can be executed independently  \n",
    "- **Requirements.txt** for reproducibility  \n",
    "- **Sample data or mock dataset** so they can test scripts without downloading full historical datasets  \n"
   ]
  },
  {
   "cell_type": "code",
   "execution_count": null,
   "metadata": {},
   "outputs": [],
   "source": []
  }
 ],
 "metadata": {
  "kernelspec": {
   "display_name": "Python 3 (ipykernel)",
   "language": "python",
   "name": "python3"
  },
  "language_info": {
   "codemirror_mode": {
    "name": "ipython",
    "version": 3
   },
   "file_extension": ".py",
   "mimetype": "text/x-python",
   "name": "python",
   "nbconvert_exporter": "python",
   "pygments_lexer": "ipython3",
   "version": "3.10.18"
  }
 },
 "nbformat": 4,
 "nbformat_minor": 4
}
