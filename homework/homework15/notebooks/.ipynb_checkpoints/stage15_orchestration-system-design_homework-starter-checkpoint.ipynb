{
 "cells": [
  {
   "cell_type": "markdown",
   "id": "35864e0a",
   "metadata": {},
   "source": [
    "# Homework Starter — Stage 15: Orchestration & System Design\n",
    "Complete the sections below. Keep your answers concise and focused on orchestration readiness."
   ]
  },
  {
   "cell_type": "markdown",
   "id": "a7dbb507",
   "metadata": {},
   "source": [
    "## 1) Project Task Decomposition\n",
    "List 4–8 tasks. Add more rows as needed."
   ]
  },
  {
   "cell_type": "code",
   "execution_count": 4,
   "id": "8cff69cf",
   "metadata": {},
   "outputs": [
    {
     "data": {
      "text/html": [
       "<div>\n",
       "<style scoped>\n",
       "    .dataframe tbody tr th:only-of-type {\n",
       "        vertical-align: middle;\n",
       "    }\n",
       "\n",
       "    .dataframe tbody tr th {\n",
       "        vertical-align: top;\n",
       "    }\n",
       "\n",
       "    .dataframe thead th {\n",
       "        text-align: right;\n",
       "    }\n",
       "</style>\n",
       "<table border=\"1\" class=\"dataframe\">\n",
       "  <thead>\n",
       "    <tr style=\"text-align: right;\">\n",
       "      <th></th>\n",
       "      <th>task</th>\n",
       "      <th>inputs</th>\n",
       "      <th>outputs</th>\n",
       "      <th>idempotent</th>\n",
       "    </tr>\n",
       "  </thead>\n",
       "  <tbody>\n",
       "    <tr>\n",
       "      <th>0</th>\n",
       "      <td>ingest_data</td>\n",
       "      <td>/data/raw_market.csv</td>\n",
       "      <td>raw_market.csv</td>\n",
       "      <td>True</td>\n",
       "    </tr>\n",
       "    <tr>\n",
       "      <th>1</th>\n",
       "      <td>clean_data</td>\n",
       "      <td>raw_market.csv</td>\n",
       "      <td>cleaned_data.csv</td>\n",
       "      <td>True</td>\n",
       "    </tr>\n",
       "    <tr>\n",
       "      <th>2</th>\n",
       "      <td>train_model</td>\n",
       "      <td>cleaned_data.csv</td>\n",
       "      <td>trained_model.pkl</td>\n",
       "      <td>True</td>\n",
       "    </tr>\n",
       "    <tr>\n",
       "      <th>3</th>\n",
       "      <td>save_model</td>\n",
       "      <td>trained_model.pkl</td>\n",
       "      <td>trained_model.pkl</td>\n",
       "      <td>True</td>\n",
       "    </tr>\n",
       "    <tr>\n",
       "      <th>4</th>\n",
       "      <td>run_flask_api</td>\n",
       "      <td>trained_model.pkl</td>\n",
       "      <td>flask_api_running.txt</td>\n",
       "      <td>True</td>\n",
       "    </tr>\n",
       "    <tr>\n",
       "      <th>5</th>\n",
       "      <td>run_streamlit_dashboard</td>\n",
       "      <td>trained_model.pkl</td>\n",
       "      <td>streamlit_dashboard_running.txt</td>\n",
       "      <td>True</td>\n",
       "    </tr>\n",
       "    <tr>\n",
       "      <th>6</th>\n",
       "      <td>generate_report</td>\n",
       "      <td>model.pkl, cleaned_data.csv</td>\n",
       "      <td>analysis_report.pdf</td>\n",
       "      <td>True</td>\n",
       "    </tr>\n",
       "  </tbody>\n",
       "</table>\n",
       "</div>"
      ],
      "text/plain": [
       "                      task                       inputs  \\\n",
       "0              ingest_data         /data/raw_market.csv   \n",
       "1               clean_data               raw_market.csv   \n",
       "2              train_model             cleaned_data.csv   \n",
       "3               save_model            trained_model.pkl   \n",
       "4            run_flask_api            trained_model.pkl   \n",
       "5  run_streamlit_dashboard            trained_model.pkl   \n",
       "6          generate_report  model.pkl, cleaned_data.csv   \n",
       "\n",
       "                           outputs  idempotent  \n",
       "0                   raw_market.csv        True  \n",
       "1                 cleaned_data.csv        True  \n",
       "2                trained_model.pkl        True  \n",
       "3                trained_model.pkl        True  \n",
       "4            flask_api_running.txt        True  \n",
       "5  streamlit_dashboard_running.txt        True  \n",
       "6              analysis_report.pdf        True  "
      ]
     },
     "execution_count": 4,
     "metadata": {},
     "output_type": "execute_result"
    }
   ],
   "source": [
    "from pathlib import Path\n",
    "import pandas as pd\n",
    "\n",
    "tasks = pd.DataFrame({\n",
    "    'task': [\n",
    "        'ingest_data',       # download or load raw market data\n",
    "        'clean_data',        # clean and feature-engineer SPX/VIX/macroeconomic data\n",
    "        'train_model',       # train regression model for SPX return\n",
    "        'save_model',        # save trained model to disk\n",
    "        'run_flask_api',     # deploy Flask API for prediction\n",
    "        'run_streamlit_dashboard',  # launch Streamlit dashboard\n",
    "        'generate_report'    # generate analysis/plots report\n",
    "    ],\n",
    "    'inputs': [\n",
    "        '/data/raw_market.csv',          # raw CSV of SPX, VIX, macro data\n",
    "        'raw_market.csv',                # input for cleaning\n",
    "        'cleaned_data.csv',              # cleaned dataset for training\n",
    "        'trained_model.pkl',             # input/output for save step\n",
    "        'trained_model.pkl',             # model input for API\n",
    "        'trained_model.pkl',             # model input for dashboard\n",
    "        'model.pkl, cleaned_data.csv'    # inputs for generating report\n",
    "    ],\n",
    "    'outputs': [\n",
    "        'raw_market.csv',\n",
    "        'cleaned_data.csv',\n",
    "        'trained_model.pkl',\n",
    "        'trained_model.pkl',\n",
    "        'flask_api_running.txt',         # placeholder to indicate API is running\n",
    "        'streamlit_dashboard_running.txt', # placeholder for dashboard\n",
    "        'analysis_report.pdf'\n",
    "    ],\n",
    "    'idempotent': [\n",
    "        True, True, True, True, True, True, True\n",
    "    ]\n",
    "})\n",
    "tasks"
   ]
  },
  {
   "cell_type": "markdown",
   "id": "25e818b5",
   "metadata": {},
   "source": [
    "## 2) Dependencies (DAG)\n",
    "Describe dependencies and paste a small diagram if you have one."
   ]
  },
  {
   "cell_type": "code",
   "execution_count": 5,
   "id": "b5211b7f",
   "metadata": {},
   "outputs": [
    {
     "data": {
      "text/plain": [
       "{'ingest_data': [],\n",
       " 'clean_data': ['ingest_data'],\n",
       " 'train_model': ['clean_data'],\n",
       " 'save_model': ['train_model'],\n",
       " 'run_flask_api': ['save_model'],\n",
       " 'run_streamlit_dashboard': ['save_model'],\n",
       " 'generate_report': ['save_model', 'clean_data']}"
      ]
     },
     "execution_count": 5,
     "metadata": {},
     "output_type": "execute_result"
    }
   ],
   "source": [
    "dag = {\n",
    "    'ingest_data': [],\n",
    "    'clean_data': ['ingest_data'],\n",
    "    'train_model': ['clean_data'],\n",
    "    'save_model': ['train_model'],\n",
    "    'run_flask_api': ['save_model'],\n",
    "    'run_streamlit_dashboard': ['save_model'],\n",
    "    'generate_report': ['save_model', 'clean_data']  # report depends on model and cleaned data\n",
    "}\n",
    "dag"
   ]
  },
  {
   "cell_type": "markdown",
   "id": "d8fe4832",
   "metadata": {},
   "source": [
    "## 3) Logging & Checkpoints Plan\n",
    "Specify what you will log and where you will checkpoint for each task."
   ]
  },
  {
   "cell_type": "code",
   "execution_count": 6,
   "id": "6c7be369",
   "metadata": {},
   "outputs": [
    {
     "data": {
      "text/html": [
       "<div>\n",
       "<style scoped>\n",
       "    .dataframe tbody tr th:only-of-type {\n",
       "        vertical-align: middle;\n",
       "    }\n",
       "\n",
       "    .dataframe tbody tr th {\n",
       "        vertical-align: top;\n",
       "    }\n",
       "\n",
       "    .dataframe thead th {\n",
       "        text-align: right;\n",
       "    }\n",
       "</style>\n",
       "<table border=\"1\" class=\"dataframe\">\n",
       "  <thead>\n",
       "    <tr style=\"text-align: right;\">\n",
       "      <th></th>\n",
       "      <th>task</th>\n",
       "      <th>log_messages</th>\n",
       "      <th>checkpoint_artifact</th>\n",
       "    </tr>\n",
       "  </thead>\n",
       "  <tbody>\n",
       "    <tr>\n",
       "      <th>0</th>\n",
       "      <td>ingest_data</td>\n",
       "      <td>start/end, rows downloaded, source URI</td>\n",
       "      <td>raw_market.csv</td>\n",
       "    </tr>\n",
       "    <tr>\n",
       "      <th>1</th>\n",
       "      <td>clean_data</td>\n",
       "      <td>start/end, rows in/out, null counts, schema va...</td>\n",
       "      <td>cleaned_data.csv</td>\n",
       "    </tr>\n",
       "    <tr>\n",
       "      <th>2</th>\n",
       "      <td>train_model</td>\n",
       "      <td>start/end, hyperparameters, train/test metrics...</td>\n",
       "      <td>trained_model.pkl</td>\n",
       "    </tr>\n",
       "    <tr>\n",
       "      <th>3</th>\n",
       "      <td>save_model</td>\n",
       "      <td>start/end, model path saved, size</td>\n",
       "      <td>trained_model.pkl</td>\n",
       "    </tr>\n",
       "    <tr>\n",
       "      <th>4</th>\n",
       "      <td>run_flask_api</td>\n",
       "      <td>start/end, API start status, request count, er...</td>\n",
       "      <td>flask_api_running.txt</td>\n",
       "    </tr>\n",
       "    <tr>\n",
       "      <th>5</th>\n",
       "      <td>run_streamlit_dashboard</td>\n",
       "      <td>start/end, dashboard launch status, user inter...</td>\n",
       "      <td>streamlit_dashboard_running.txt</td>\n",
       "    </tr>\n",
       "    <tr>\n",
       "      <th>6</th>\n",
       "      <td>generate_report</td>\n",
       "      <td>start/end, artifact paths, number of plots, su...</td>\n",
       "      <td>analysis_report.pdf</td>\n",
       "    </tr>\n",
       "  </tbody>\n",
       "</table>\n",
       "</div>"
      ],
      "text/plain": [
       "                      task                                       log_messages  \\\n",
       "0              ingest_data             start/end, rows downloaded, source URI   \n",
       "1               clean_data  start/end, rows in/out, null counts, schema va...   \n",
       "2              train_model  start/end, hyperparameters, train/test metrics...   \n",
       "3               save_model                  start/end, model path saved, size   \n",
       "4            run_flask_api  start/end, API start status, request count, er...   \n",
       "5  run_streamlit_dashboard  start/end, dashboard launch status, user inter...   \n",
       "6          generate_report  start/end, artifact paths, number of plots, su...   \n",
       "\n",
       "               checkpoint_artifact  \n",
       "0                   raw_market.csv  \n",
       "1                 cleaned_data.csv  \n",
       "2                trained_model.pkl  \n",
       "3                trained_model.pkl  \n",
       "4            flask_api_running.txt  \n",
       "5  streamlit_dashboard_running.txt  \n",
       "6              analysis_report.pdf  "
      ]
     },
     "execution_count": 6,
     "metadata": {},
     "output_type": "execute_result"
    }
   ],
   "source": [
    "logging_plan = pd.DataFrame({\n",
    "    'task': [\n",
    "        'ingest_data',\n",
    "        'clean_data',\n",
    "        'train_model',\n",
    "        'save_model',\n",
    "        'run_flask_api',\n",
    "        'run_streamlit_dashboard',\n",
    "        'generate_report'\n",
    "    ],\n",
    "    'log_messages': [\n",
    "        'start/end, rows downloaded, source URI',\n",
    "        'start/end, rows in/out, null counts, schema validation',\n",
    "        'start/end, hyperparameters, train/test metrics (R², RMSE)',\n",
    "        'start/end, model path saved, size',\n",
    "        'start/end, API start status, request count, errors',\n",
    "        'start/end, dashboard launch status, user interactions',\n",
    "        'start/end, artifact paths, number of plots, summary stats'\n",
    "    ],\n",
    "    'checkpoint_artifact': [\n",
    "        'raw_market.csv',\n",
    "        'cleaned_data.csv',\n",
    "        'trained_model.pkl',\n",
    "        'trained_model.pkl',\n",
    "        'flask_api_running.txt',\n",
    "        'streamlit_dashboard_running.txt',\n",
    "        'analysis_report.pdf'\n",
    "    ]\n",
    "})\n",
    "logging_plan"
   ]
  },
  {
   "cell_type": "markdown",
   "id": "00a33fd3",
   "metadata": {},
   "source": [
    "## 4) Right-Sizing Automation\n",
    "Which parts will you automate now? Which stay manual? Why?"
   ]
  },
  {
   "cell_type": "markdown",
   "id": "3b6d20f0",
   "metadata": {},
   "source": [
    "*(Write your rationale here.)*\n",
    "\n",
    "Automation focuses on **repetitive, deterministic tasks** such as data pipelines, feature computation, model training, and deployment. Manual work is reserved for **tasks needing judgment, interpretation, or business context**, ensuring that automation enhances efficiency without replacing critical human decision-making."
   ]
  },
  {
   "cell_type": "markdown",
   "id": "5bd6c9c5",
   "metadata": {},
   "source": [
    "## 5) (Stretch) Refactor One Task into a Function + CLI\n",
    "Use the templates below."
   ]
  },
  {
   "cell_type": "code",
   "execution_count": 10,
   "id": "fd367cc7",
   "metadata": {},
   "outputs": [
    {
     "name": "stdout",
     "output_type": "stream",
     "text": [
      "INFO:root:[my_task] start\n",
      "INFO:root:[my_task] wrote /Users/yihanyao/bootcamp_yihan_yao/homework/homework15/data/out.json\n"
     ]
    }
   ],
   "source": [
    "import argparse, json, logging, sys\n",
    "from pathlib import Path\n",
    "from datetime import datetime\n",
    "\n",
    "def my_task(input_path: str, output_path: str) -> None:\n",
    "    '''Example task template: read → transform → write JSON.'''\n",
    "    logging.info('[my_task] start')\n",
    "    \n",
    "    # TODO: implement your logic\n",
    "    result = {'run_at': datetime.utcnow().isoformat(), 'note': 'replace with real output'}\n",
    "    \n",
    "    # Ensure output folder exists, relative to the parent of notebooks folder\n",
    "    notebooks_folder = Path.cwd()           # current notebook folder\n",
    "    project_root = notebooks_folder.parent  # sibling to notebooks\n",
    "    full_output_path = project_root / output_path\n",
    "    full_output_path.parent.mkdir(parents=True, exist_ok=True)\n",
    "    \n",
    "    full_output_path.write_text(json.dumps(result, indent=2))\n",
    "    logging.info('[my_task] wrote %s', full_output_path)\n",
    "\n",
    "def main(argv=None):\n",
    "    parser = argparse.ArgumentParser(description='Homework task wrapper')\n",
    "    parser.add_argument('--input', required=True)\n",
    "    parser.add_argument('--output', required=True)\n",
    "    args = parser.parse_args(argv)\n",
    "    logging.basicConfig(level=logging.INFO, handlers=[logging.StreamHandler(sys.stdout)])\n",
    "    my_task(args.input, args.output)\n",
    "\n",
    "if __name__ == '__main__':\n",
    "    # Example simulated CLI in notebook:\n",
    "    main(['--input', 'data/in.ext', '--output', 'data/out.json'])"
   ]
  },
  {
   "cell_type": "markdown",
   "id": "942737c7",
   "metadata": {},
   "source": [
    "### Optional: Simple Retry Wrapper (fill in)\n",
    "Add a small retry with linear backoff to harden a task."
   ]
  },
  {
   "cell_type": "code",
   "execution_count": 11,
   "id": "f86a1d89",
   "metadata": {},
   "outputs": [],
   "source": [
    "import time\n",
    "def retry(n_tries=3, delay=0.2):\n",
    "    def wrapper(fn, *args, **kwargs):\n",
    "        # TODO: implement try/except loop with sleep backoff\n",
    "        return fn(*args, **kwargs)\n",
    "    return wrapper"
   ]
  },
  {
   "cell_type": "code",
   "execution_count": null,
   "id": "3a17d572-1871-45c1-b27f-8dacc0e2fa81",
   "metadata": {},
   "outputs": [],
   "source": []
  }
 ],
 "metadata": {
  "kernelspec": {
   "display_name": "Python 3 (ipykernel)",
   "language": "python",
   "name": "python3"
  },
  "language_info": {
   "codemirror_mode": {
    "name": "ipython",
    "version": 3
   },
   "file_extension": ".py",
   "mimetype": "text/x-python",
   "name": "python",
   "nbconvert_exporter": "python",
   "pygments_lexer": "ipython3",
   "version": "3.10.18"
  }
 },
 "nbformat": 4,
 "nbformat_minor": 5
}
