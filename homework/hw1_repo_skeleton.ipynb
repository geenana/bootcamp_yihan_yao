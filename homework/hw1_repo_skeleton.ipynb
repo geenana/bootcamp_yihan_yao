{
 "cells": [
  {
   "cell_type": "code",
   "execution_count": 2,
   "id": "cc26f89a-5a21-4fa6-a00f-85ccc9b3012d",
   "metadata": {},
   "outputs": [
    {
     "data": {
      "text/plain": [
       "PosixPath('/Users/yihanyao/bootcamp_yihan_yao/homework/homework1/README.md')"
      ]
     },
     "execution_count": 2,
     "metadata": {},
     "output_type": "execute_result"
    }
   ],
   "source": [
    "# Repo Skeleton Demo — run locally to scaffold your project\n",
    "import os, textwrap, pathlib\n",
    "\n",
    "REPO_NAME = \"homework1\"  # change as desired\n",
    "FOLDERS = [\"data\", \"src\", \"notebooks\", \"docs\"]\n",
    "\n",
    "base = pathlib.Path.cwd() / REPO_NAME\n",
    "base.mkdir(exist_ok=True)\n",
    "for f in FOLDERS:\n",
    "    (base / f).mkdir(parents=True, exist_ok=True)\n",
    "\n",
    "README_TEMPLATE = textwrap.dedent(\"\"\"\n",
    "# Project Title\n",
    "**Stage:** Problem Framing & Scoping (Stage 01)\n",
    "\n",
    "## Problem Statement\n",
    "<1–2 paragraphs: what problem & why it matters>\n",
    "\n",
    "## Stakeholder & User\n",
    "<Who decides? Who uses the output? Timing & workflow context>\n",
    "\n",
    "## Useful Answer & Decision\n",
    "<Descriptive / Predictive / Causal; metric; artifact to deliver>\n",
    "\n",
    "## Assumptions & Constraints\n",
    "<Bullets: data availability, capacity, latency, compliance, etc.>\n",
    "\n",
    "## Known Unknowns / Risks\n",
    "<Bullets: what’s uncertain; how you’ll test or monitor>\n",
    "\n",
    "## Lifecycle Mapping\n",
    "Goal → Stage → Deliverable\n",
    "- <Goal A> → Problem Framing & Scoping (Stage 01) → <Deliverable X>\n",
    "\n",
    "## Repo Plan\n",
    "/data/, /src/, /notebooks/, /docs/ ; cadence for updates\n",
    "\"\"\")\n",
    "\n",
    "readme_path = base / \"README.md\"\n",
    "if not readme_path.exists():\n",
    "    readme_path.write_text(README_TEMPLATE, encoding=\"utf-8\")\n",
    "readme_path.resolve()"
   ]
  },
  {
   "cell_type": "code",
   "execution_count": null,
   "id": "4a2a7081-74c6-44fc-8dcb-c321c66588ee",
   "metadata": {},
   "outputs": [],
   "source": []
  }
 ],
 "metadata": {
  "kernelspec": {
   "display_name": "Python [conda env:bootcamp_env]",
   "language": "python",
   "name": "bootcamp_env"
  },
  "language_info": {
   "codemirror_mode": {
    "name": "ipython",
    "version": 3
   },
   "file_extension": ".py",
   "mimetype": "text/x-python",
   "name": "python",
   "nbconvert_exporter": "python",
   "pygments_lexer": "ipython3",
   "version": "3.10.18"
  }
 },
 "nbformat": 4,
 "nbformat_minor": 5
}
